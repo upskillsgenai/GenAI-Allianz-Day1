{
  "cells": [
    {
      "cell_type": "markdown",
      "metadata": {},
      "source": [
        "# Conditional Workflow with LangGraph and LLM\n",
        "\n",
        "This notebook demonstrates how to build a **conditional workflow** using **LangGraph** and an **LLM (OpenAI GPT)** for customer support automation.  \n",
        "Instead of a single response path, the workflow uses **conditional branching**: the system decides dynamically which response node to use based on the type of customer query.\n",
        "\n",
        "---\n",
        "\n",
        "## 🔹 Workflow Overview\n",
        "1. **User Query Input**  \n",
        "   - A customer query (e.g., *\"Why was I charged an extra amount this month?\"*) is provided to the workflow.\n",
        "\n",
        "2. **Classification Step (`classify_query`)**  \n",
        "   - An LLM classifies the query into one of three categories:  \n",
        "     - `billing_issue`  \n",
        "     - `technical_support`  \n",
        "     - `general_query`\n",
        "\n",
        "3. **Conditional Branching (`check_category`)**  \n",
        "   - Based on the predicted category, the workflow routes the query to the corresponding specialized response node:  \n",
        "     - **Billing Response Node** → Handles billing-related issues.  \n",
        "     - **Technical Support Response Node** → Handles troubleshooting requests.  \n",
        "     - **General Response Node** → Handles general inquiries.  \n",
        "\n",
        "4. **Response Generation**  \n",
        "   - Each branch uses the LLM with a tailored prompt to generate a polite, context-specific response for the customer.  \n",
        "\n",
        "5. **End of Workflow**  \n",
        "   - The workflow returns the predicted category and the generated response.  \n",
        "\n",
        "---"
      ]
    },
    {
      "cell_type": "code",
      "execution_count": 4,
      "metadata": {
        "id": "6KGBwBELvIFc"
      },
      "outputs": [],
      "source": [
        "from langgraph.graph import StateGraph, START, END\n",
        "from langchain_openai import ChatOpenAI\n",
        "from typing import TypedDict, Literal\n",
        "import os"
      ]
    },
    {
      "cell_type": "code",
      "execution_count": null,
      "metadata": {
        "id": "soOZL1iivOMT"
      },
      "outputs": [],
      "source": [
        "import os\n",
        "\n",
        "os.environ[\"OPENAI_API_KEY\"] = \"sk-proj-xxxxxxxxxxxxx\""
      ]
    },
    {
      "cell_type": "code",
      "execution_count": 7,
      "metadata": {
        "id": "12wGOaf4vOPH"
      },
      "outputs": [],
      "source": [
        "# Step 1: Define the state\n",
        "class SupportState(TypedDict):\n",
        "    query: str\n",
        "    category: str\n",
        "    response: str"
      ]
    },
    {
      "cell_type": "code",
      "execution_count": 6,
      "metadata": {
        "id": "zcgn1WBbvOSA"
      },
      "outputs": [],
      "source": [
        "# Step 2: LLM instance (shared)\n",
        "llm = ChatOpenAI(model=\"gpt-3.5-turbo\", temperature=0.3)"
      ]
    },
    {
      "cell_type": "code",
      "execution_count": 8,
      "metadata": {
        "id": "ODjdNdNzvOX9"
      },
      "outputs": [],
      "source": [
        "# Step 3: Classification node\n",
        "def classify_query(state: SupportState):\n",
        "    user_query = state[\"query\"]\n",
        "    prompt = f\"\"\"\n",
        "You are a customer service assistant. Classify the following query into one of these categories:\n",
        "- billing_issue\n",
        "- technical_support\n",
        "- general_query\n",
        "\n",
        "Query: \"{user_query}\"\n",
        "\n",
        "Only return one category name.\n",
        "\"\"\"\n",
        "    result = llm.invoke(prompt)\n",
        "    return {\"category\": result.content.strip()}"
      ]
    },
    {
      "cell_type": "code",
      "execution_count": 9,
      "metadata": {
        "id": "AwMyd5y5vmcF"
      },
      "outputs": [],
      "source": [
        "# Step 4: Billing Response node (uses LLM)\n",
        "def billing_response(state: SupportState):\n",
        "    prompt = f\"\"\"\n",
        "You are a billing support agent. Respond to the following customer query politely and informatively:\n",
        "\n",
        "Query: \"{state['query']}\"\n",
        "\"\"\"\n",
        "    result = llm.invoke(prompt)\n",
        "    return {\"response\": result.content.strip()}\n"
      ]
    },
    {
      "cell_type": "code",
      "execution_count": 10,
      "metadata": {
        "id": "L_8usUARy65o"
      },
      "outputs": [],
      "source": [
        "# Step 5: Technical Support Response node (uses LLM)\n",
        "def tech_response(state: SupportState):\n",
        "    prompt = f\"\"\"\n",
        "You are a technical support agent. Troubleshoot and respond to the following customer issue:\n",
        "\n",
        "Query: \"{state['query']}\"\n",
        "\"\"\"\n",
        "    result = llm.invoke(prompt)\n",
        "    return {\"response\": result.content.strip()}"
      ]
    },
    {
      "cell_type": "code",
      "execution_count": 11,
      "metadata": {
        "id": "xHgg_6Jn4a4j"
      },
      "outputs": [],
      "source": [
        "# Step 6: General Query Response node (uses LLM)\n",
        "def general_response(state: SupportState):\n",
        "    prompt = f\"\"\"\n",
        "You are a general support agent. Provide a helpful and polite response to the following customer question:\n",
        "\n",
        "Query: \"{state['query']}\"\n",
        "\"\"\"\n",
        "    result = llm.invoke(prompt)\n",
        "    return {\"response\": result.content.strip()}"
      ]
    },
    {
      "cell_type": "code",
      "execution_count": 12,
      "metadata": {
        "id": "MVkrwmy64ebz"
      },
      "outputs": [],
      "source": [
        "# Step 7: Conditional logic\n",
        "def check_category(state: SupportState) -> Literal[\"billing_response\", \"tech_response\", \"general_response\"]:\n",
        "    cat = state[\"category\"]\n",
        "    if cat == \"billing_issue\":\n",
        "        return \"billing_response\"\n",
        "    elif cat == \"technical_support\":\n",
        "        return \"tech_response\"\n",
        "    else:\n",
        "        return \"general_response\""
      ]
    },
    {
      "cell_type": "code",
      "execution_count": 13,
      "metadata": {
        "id": "0bcq3ddi4iu3"
      },
      "outputs": [],
      "source": [
        "# Step 8: Build the workflow graph\n",
        "graph = StateGraph(SupportState)\n",
        "\n",
        "graph.add_node(\"classify_query\", classify_query)\n",
        "graph.add_node(\"billing_response\", billing_response)\n",
        "graph.add_node(\"tech_response\", tech_response)\n",
        "graph.add_node(\"general_response\", general_response)\n",
        "\n",
        "graph.add_edge(START, \"classify_query\")\n",
        "graph.add_conditional_edges(\"classify_query\", check_category)\n",
        "graph.add_edge(\"billing_response\", END)\n",
        "graph.add_edge(\"tech_response\", END)\n",
        "graph.add_edge(\"general_response\", END)\n",
        "\n",
        "workflow = graph.compile()"
      ]
    },
    {
      "cell_type": "code",
      "execution_count": 14,
      "metadata": {
        "id": "jn1EPgCX4mJo"
      },
      "outputs": [],
      "source": [
        "input_data = {\n",
        "    \"query\": \"Why was I charged an extra amount this month?\"\n",
        "}"
      ]
    },
    {
      "cell_type": "code",
      "execution_count": 15,
      "metadata": {
        "id": "cpQO1bUw4v5V"
      },
      "outputs": [],
      "source": [
        "final_state = workflow.invoke(input_data)"
      ]
    },
    {
      "cell_type": "code",
      "execution_count": 16,
      "metadata": {
        "colab": {
          "base_uri": "https://localhost:8080/"
        },
        "id": "D2NzYeok4x0q",
        "outputId": "04a35d93-286c-4942-d42f-ae88df408f28"
      },
      "outputs": [
        {
          "name": "stdout",
          "output_type": "stream",
          "text": [
            "Category: billing_issue\n"
          ]
        }
      ],
      "source": [
        "print(\"Category:\", final_state[\"category\"])"
      ]
    },
    {
      "cell_type": "code",
      "execution_count": 17,
      "metadata": {
        "colab": {
          "base_uri": "https://localhost:8080/"
        },
        "id": "Dtz6T2094zl3",
        "outputId": "1bc34679-2f79-46b4-933d-963a2ba51ad9"
      },
      "outputs": [
        {
          "name": "stdout",
          "output_type": "stream",
          "text": [
            "Response: Dear customer,\n",
            "\n",
            "Thank you for reaching out to us regarding the extra charge on your bill this month. I understand your concern and I would be happy to assist you with this matter.\n",
            "\n",
            "In order to provide you with more specific information about the extra charge, could you please provide me with your account details such as your account number or phone number associated with the account? This will help me to review your billing statement and identify the reason for the additional amount.\n",
            "\n",
            "Once I have this information, I will be able to investigate the issue further and provide you with a detailed explanation of the extra charge on your bill. Thank you for your cooperation and I look forward to resolving this matter for you.\n",
            "\n",
            "Best regards,\n",
            "[Your Name]\n",
            "Billing Support Agent\n"
          ]
        }
      ],
      "source": [
        "print(\"Response:\", final_state[\"response\"])"
      ]
    },
    {
      "cell_type": "code",
      "execution_count": 18,
      "metadata": {
        "colab": {
          "base_uri": "https://localhost:8080/",
          "height": 350
        },
        "id": "J8r4p8iv41rx",
        "outputId": "aae5f3e9-1d30-429a-fab8-c05bcbbc2a25"
      },
      "outputs": [
        {
          "data": {
            "image/png": "[encoded data removed]",
            "text/plain": [
              "<IPython.core.display.Image object>"
            ]
          },
          "execution_count": 18,
          "metadata": {},
          "output_type": "execute_result"
        }
      ],
      "source": [
        "from IPython.display import Image\n",
        "Image(workflow.get_graph().draw_mermaid_png())"
      ]
    },
    {
      "cell_type": "code",
      "execution_count": null,
      "metadata": {
        "id": "OH763j8V46S-"
      },
      "outputs": [],
      "source": []
    }
  ],
  "metadata": {
    "colab": {
      "provenance": []
    },
    "kernelspec": {
      "display_name": "labenv1 (3.10.0)",
      "language": "python",
      "name": "python3"
    },
    "language_info": {
      "codemirror_mode": {
        "name": "ipython",
        "version": 3
      },
      "file_extension": ".py",
      "mimetype": "text/x-python",
      "name": "python",
      "nbconvert_exporter": "python",
      "pygments_lexer": "ipython3",
      "version": "3.10.0"
    }
  },
  "nbformat": 4,
  "nbformat_minor": 0
}
