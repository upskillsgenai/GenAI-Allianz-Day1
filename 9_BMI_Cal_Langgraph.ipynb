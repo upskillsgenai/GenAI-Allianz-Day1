{
 "cells": [
  {
   "cell_type": "code",
   "execution_count": 1,
   "id": "18c60621",
   "metadata": {},
   "outputs": [],
   "source": [
    "# import package\n",
    "from langgraph.graph import StateGraph , START, END\n",
    "from typing import TypedDict"
   ]
  },
  {
   "cell_type": "code",
   "execution_count": 2,
   "metadata": {},
   "outputs": [],
   "source": [
    "# define state\n",
    "class BMIState(TypedDict):\n",
    "    weight_kg : float\n",
    "    height_m : float\n",
    "    bmi : float\n",
    "    category : str"
   ]
  },
  {
   "cell_type": "code",
   "execution_count": 4,
   "id": "95c5c25c",
   "metadata": {},
   "outputs": [],
   "source": [
    "# python function for node -1\n",
    "def calculate_bmi(state:BMIState) -> BMIState:\n",
    "\n",
    "    weight = state['weight_kg']\n",
    "    height = state['height_m']\n",
    "    bmi = weight /(height**2)\n",
    "    state['bmi'] = bmi\n",
    "    return state"
   ]
  },
  {
   "cell_type": "code",
   "execution_count": 6,
   "metadata": {},
   "outputs": [],
   "source": [
    "# python function for node -2\n",
    "def label_bmi (state: BMIState) ->BMIState:\n",
    "    bmi = state['bmi']\n",
    "\n",
    "    if bmi < 18.5 :\n",
    "        state['category'] = \"Underweight\"\n",
    "    elif 18.5 < bmi <25 :\n",
    "        state[\"category\"] = \"Normal\"\n",
    "    elif 25 < bmi < 30:\n",
    "        state[\"category\"] = \"OverWeight\"\n",
    "    else:\n",
    "        state[\"category\"] = \"Obese\"\n",
    "    \n",
    "    return state"
   ]
  },
  {
   "cell_type": "code",
   "execution_count": 3,
   "metadata": {},
   "outputs": [],
   "source": [
    "# define the graph\n",
    "graph = StateGraph(BMIState)"
   ]
  },
  {
   "cell_type": "code",
   "execution_count": 7,
   "id": "2bd8492c",
   "metadata": {},
   "outputs": [
    {
     "data": {
      "text/plain": [
       "<langgraph.graph.state.StateGraph at 0x1d43c822620>"
      ]
     },
     "execution_count": 7,
     "metadata": {},
     "output_type": "execute_result"
    }
   ],
   "source": [
    "# add the node\n",
    "graph.add_node(\"calculate_bmi\", calculate_bmi)  # <diaplyed-node-name> , <fython function>\n",
    "graph.add_node(\"label_bmi\", label_bmi)"
   ]
  },
  {
   "cell_type": "code",
   "execution_count": 8,
   "id": "18c96c9f",
   "metadata": {},
   "outputs": [
    {
     "data": {
      "text/plain": [
       "<langgraph.graph.state.StateGraph at 0x1d43c822620>"
      ]
     },
     "execution_count": 8,
     "metadata": {},
     "output_type": "execute_result"
    }
   ],
   "source": [
    "# make connection with edges\n",
    "graph.add_edge(START,\"calculate_bmi\")\n",
    "graph.add_edge(\"calculate_bmi\", \"label_bmi\")\n",
    "graph.add_edge(\"label_bmi\",END)"
   ]
  },
  {
   "cell_type": "code",
   "execution_count": 9,
   "metadata": {},
   "outputs": [],
   "source": [
    "#compile graph\n",
    "workflow = graph.compile()"
   ]
  },
  {
   "cell_type": "code",
   "execution_count": 11,
   "id": "d919c36a",
   "metadata": {},
   "outputs": [
    {
     "name": "stdout",
     "output_type": "stream",
     "text": [
      "{'weight_kg': 90, 'height_m': 1.8, 'bmi': 27.777777777777775, 'category': 'OverWeight'}\n"
     ]
    }
   ],
   "source": [
    "# execute the graph \n",
    "initial_state = {'weight_kg' : 90 , 'height_m' : 1.8}\n",
    "final_state = workflow.invoke(initial_state)\n",
    "print(final_state)"
   ]
  },
  {
   "cell_type": "code",
   "execution_count": 12,
   "id": "e1d95c3a",
   "metadata": {},
   "outputs": [
    {
     "data": {
      "image/png": "[encoded data removed]",
      "text/plain": [
       "<langgraph.graph.state.CompiledStateGraph object at 0x000001D43C8B9090>"
      ]
     },
     "execution_count": 12,
     "metadata": {},
     "output_type": "execute_result"
    }
   ],
   "source": [
    "workflow"
   ]
  },
  {
   "cell_type": "code",
   "execution_count": null,
   "id": "c9199b1b",
   "metadata": {},
   "outputs": [],
   "source": []
  }
 ],
 "metadata": {
  "kernelspec": {
   "display_name": "labenv1 (3.10.0)",
   "language": "python",
   "name": "python3"
  },
  "language_info": {
   "codemirror_mode": {
    "name": "ipython",
    "version": 3
   },
   "file_extension": ".py",
   "mimetype": "text/x-python",
   "name": "python",
   "nbconvert_exporter": "python",
   "pygments_lexer": "ipython3",
   "version": "3.10.0"
  }
 },
 "nbformat": 4,
 "nbformat_minor": 5
}
