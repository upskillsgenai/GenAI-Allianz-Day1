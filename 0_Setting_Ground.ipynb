{
  "nbformat": 4,
  "nbformat_minor": 0,
  "metadata": {
    "colab": {
      "provenance": []
    },
    "kernelspec": {
      "name": "python3",
      "display_name": "Python 3"
    },
    "language_info": {
      "name": "python"
    }
  },
  "cells": [
    {
      "cell_type": "code",
      "execution_count": null,
      "metadata": {
        "colab": {
          "base_uri": "https://localhost:8080/"
        },
        "id": "pAFm3Slajh3I",
        "outputId": "8124d272-7e31-4b0d-d9de-4f517a30cfaa"
      },
      "outputs": [
        {
          "output_type": "stream",
          "name": "stdout",
          "text": [
            "\u001b[?25l   \u001b[90m━━━━━━━━━━━━━━━━━━━━━━━━━━━━━━━━━━━━━━━━\u001b[0m \u001b[32m0.0/74.5 kB\u001b[0m \u001b[31m?\u001b[0m eta \u001b[36m-:--:--\u001b[0m\r\u001b[2K   \u001b[91m━━━━━━━━━━━━━━━━━━━━━\u001b[0m\u001b[91m╸\u001b[0m\u001b[90m━━━━━━━━━━━━━━━━━━\u001b[0m \u001b[32m41.0/74.5 kB\u001b[0m \u001b[31m1.7 MB/s\u001b[0m eta \u001b[36m0:00:01\u001b[0m\r\u001b[2K   \u001b[90m━━━━━━━━━━━━━━━━━━━━━━━━━━━━━━━━━━━━━━━━\u001b[0m \u001b[32m74.5/74.5 kB\u001b[0m \u001b[31m1.2 MB/s\u001b[0m eta \u001b[36m0:00:00\u001b[0m\n",
            "\u001b[?25h"
          ]
        }
      ],
      "source": [
        "#!pip install langchain_openai -q"
      ]
    },
    {
      "cell_type": "markdown",
      "source": [
        "Completion Model"
      ],
      "metadata": {
        "id": "zow281EonzEO"
      }
    },
    {
      "cell_type": "code",
      "source": [
        "from langchain_openai import OpenAI"
      ],
      "metadata": {
        "id": "1141rLqbj3Na"
      },
      "execution_count": null,
      "outputs": []
    },
    {
      "cell_type": "code",
      "source": [
        "import os\n",
        "os.environ[\"OPENAI_API_KEY\"] = \"sk-xxxxxxxxxxxxxxxxxx\"  # 🔒 Replace with your actual key"
      ],
      "metadata": {
        "id": "9_Hj1DUQkGji"
      },
      "execution_count": null,
      "outputs": []
    },
    {
      "cell_type": "code",
      "source": [
        "llm = OpenAI() #model=\"gpt-4o-mini\""
      ],
      "metadata": {
        "id": "zA0bmZo6jrbO"
      },
      "execution_count": null,
      "outputs": []
    },
    {
      "cell_type": "code",
      "source": [
        "llm1=OpenAI(api_key='sk-xxxxxxxxxxxxxxxxxx')"
      ],
      "metadata": {
        "id": "UJwYMIWongpm"
      },
      "execution_count": null,
      "outputs": []
    },
    {
      "cell_type": "code",
      "source": [
        "llm1.model_name"
      ],
      "metadata": {
        "colab": {
          "base_uri": "https://localhost:8080/",
          "height": 35
        },
        "id": "SyB1m3RHmTrA",
        "outputId": "069521db-16a1-4706-a6df-ef858a16acdb"
      },
      "execution_count": null,
      "outputs": [
        {
          "output_type": "execute_result",
          "data": {
            "text/plain": [
              "'gpt-3.5-turbo-instruct'"
            ],
            "application/vnd.google.colaboratory.intrinsic+json": {
              "type": "string"
            }
          },
          "metadata": {},
          "execution_count": 41
        }
      ]
    },
    {
      "cell_type": "code",
      "source": [
        "# Use predict instead of invoke\n",
        "result = llm1.invoke(\"What is the sun?\")"
      ],
      "metadata": {
        "id": "5aUHqna5kL0n"
      },
      "execution_count": null,
      "outputs": []
    },
    {
      "cell_type": "code",
      "source": [
        "result"
      ],
      "metadata": {
        "colab": {
          "base_uri": "https://localhost:8080/",
          "height": 87
        },
        "id": "vfyXjJNckOE5",
        "outputId": "40d7298b-1c00-4485-c8b5-7cedef9b66b8"
      },
      "execution_count": null,
      "outputs": [
        {
          "output_type": "execute_result",
          "data": {
            "text/plain": [
              "\"\\n\\nThe sun is a star, located at the center of the solar system. It is a huge, glowing ball of gas, primarily made up of hydrogen and helium. It provides heat and light to the Earth, allowing for life to exist. It is also responsible for the Earth's weather patterns and climate. The sun is approximately 93 million miles away from the Earth and has a diameter of about 864,000 miles. It has a lifespan of about 10 billion years and is currently about halfway through its expected life.\""
            ],
            "application/vnd.google.colaboratory.intrinsic+json": {
              "type": "string"
            }
          },
          "metadata": {},
          "execution_count": 43
        }
      ]
    },
    {
      "cell_type": "code",
      "source": [
        "print(result)"
      ],
      "metadata": {
        "colab": {
          "base_uri": "https://localhost:8080/"
        },
        "id": "h0ppggXjl92V",
        "outputId": "59795811-d91b-4f94-a587-3c1f7bdc19b7"
      },
      "execution_count": null,
      "outputs": [
        {
          "output_type": "stream",
          "name": "stdout",
          "text": [
            "\n",
            "\n",
            "The sun is a star, located at the center of the solar system. It is a huge, glowing ball of gas, primarily made up of hydrogen and helium. It provides heat and light to the Earth, allowing for life to exist. It is also responsible for the Earth's weather patterns and climate. The sun is approximately 93 million miles away from the Earth and has a diameter of about 864,000 miles. It has a lifespan of about 10 billion years and is currently about halfway through its expected life.\n"
          ]
        }
      ]
    },
    {
      "cell_type": "markdown",
      "source": [
        "# **Chat Model**"
      ],
      "metadata": {
        "id": "6t3oapAXnvW-"
      }
    },
    {
      "cell_type": "code",
      "source": [
        "from langchain_openai import ChatOpenAI"
      ],
      "metadata": {
        "id": "U13RIarpmE6R"
      },
      "execution_count": null,
      "outputs": []
    },
    {
      "cell_type": "code",
      "source": [
        "chat = ChatOpenAI(model=\"gpt-4o-mini\")"
      ],
      "metadata": {
        "id": "WE5Yndj2kfM0"
      },
      "execution_count": null,
      "outputs": []
    },
    {
      "cell_type": "code",
      "source": [
        "chat.model_name"
      ],
      "metadata": {
        "colab": {
          "base_uri": "https://localhost:8080/",
          "height": 35
        },
        "id": "eO6g4vfumZGA",
        "outputId": "dbeb950d-3f30-4965-83f2-d9dd0df2b79a"
      },
      "execution_count": null,
      "outputs": [
        {
          "output_type": "execute_result",
          "data": {
            "text/plain": [
              "'gpt-4o-mini'"
            ],
            "application/vnd.google.colaboratory.intrinsic+json": {
              "type": "string"
            }
          },
          "metadata": {},
          "execution_count": 32
        }
      ]
    },
    {
      "cell_type": "code",
      "source": [
        "result = chat.invoke(\"What is the sun?\")"
      ],
      "metadata": {
        "id": "L01BFYYMmcMD"
      },
      "execution_count": null,
      "outputs": []
    },
    {
      "cell_type": "code",
      "source": [
        "result"
      ],
      "metadata": {
        "colab": {
          "base_uri": "https://localhost:8080/"
        },
        "id": "IDSTgONBmeWo",
        "outputId": "82412e57-dc6c-4a30-c22f-7e2d2b6cb5bd"
      },
      "execution_count": null,
      "outputs": [
        {
          "output_type": "execute_result",
          "data": {
            "text/plain": [
              "AIMessage(content=\"The Sun is a nearly perfect sphere of hot plasma located at the center of our solar system. It is a star, primarily composed of hydrogen (about 74% by mass) and helium (about 24% by mass), with trace amounts of heavier elements. The Sun generates energy through nuclear fusion, a process in which hydrogen nuclei combine to form helium, releasing vast amounts of energy in the form of light and heat.\\n\\nThe Sun's structure consists of several layers:\\n\\n1. **Core**: This is the innermost layer, where nuclear fusion occurs. Temperatures reach around 15 million degrees Celsius (27 million degrees Fahrenheit).\\n\\n2. **Radiative zone**: Surrounding the core, energy produced in the core moves outward through this layer, taking millions of years to pass through due to the dense plasma.\\n\\n3. **Convective zone**: Above the radiative zone, energy is transported to the surface through convection, where hot plasma rises and cooler plasma sinks.\\n\\n4. **Photosphere**: This is the Sun's visible surface, where light is emitted. The temperature here is about 5,500 degrees Celsius (9,932 degrees Fahrenheit).\\n\\n5. **Chromosphere**: Above the photosphere, this layer is visible during a solar eclipse and is characterized by a reddish color due to hydrogen emission.\\n\\n6. **Corona**: The outermost layer of the Sun's atmosphere, extending millions of kilometers into space and visible during a total solar eclipse. It has a much higher temperature than the layers below it, with temperatures reaching 1 to 3 million degrees Celsius (1.8 million to 5.4 million degrees Fahrenheit).\\n\\nThe Sun plays a crucial role in supporting life on Earth by providing the necessary light and warmth. Its gravitational influence keeps the planets, including Earth, in stable orbits, and its energy drives Earth's climate and weather systems. The Sun is about 4.6 billion years old and is expected to continue shining for several billion more years before exhausting its fuel and evolving into a red giant, eventually shedding its outer layers and leaving behind a white dwarf.\", additional_kwargs={'refusal': None}, response_metadata={'token_usage': {'completion_tokens': 423, 'prompt_tokens': 12, 'total_tokens': 435, 'completion_tokens_details': {'accepted_prediction_tokens': 0, 'audio_tokens': 0, 'reasoning_tokens': 0, 'rejected_prediction_tokens': 0}, 'prompt_tokens_details': {'audio_tokens': 0, 'cached_tokens': 0}}, 'model_name': 'gpt-4o-mini-2024-07-18', 'system_fingerprint': 'fp_8bda4d3a2c', 'id': 'chatcmpl-CDjgSrZBdl1GNNUnPs02dvK6OgFco', 'service_tier': 'default', 'finish_reason': 'stop', 'logprobs': None}, id='run--6bf8510c-6d56-4b9c-af7c-271fb5af0867-0', usage_metadata={'input_tokens': 12, 'output_tokens': 423, 'total_tokens': 435, 'input_token_details': {'audio': 0, 'cache_read': 0}, 'output_token_details': {'audio': 0, 'reasoning': 0}})"
            ]
          },
          "metadata": {},
          "execution_count": 34
        }
      ]
    },
    {
      "cell_type": "code",
      "source": [
        "# Print main text content\n",
        "print(\"\\n--- Content ---\")\n",
        "print(result.content)"
      ],
      "metadata": {
        "colab": {
          "base_uri": "https://localhost:8080/"
        },
        "id": "e8Rr0xn3mhHA",
        "outputId": "ddb25c84-492f-4dca-e31e-f5f0a4a8b089"
      },
      "execution_count": null,
      "outputs": [
        {
          "output_type": "stream",
          "name": "stdout",
          "text": [
            "\n",
            "--- Content ---\n",
            "The Sun is a nearly perfect sphere of hot plasma located at the center of our solar system. It is a star, primarily composed of hydrogen (about 74% by mass) and helium (about 24% by mass), with trace amounts of heavier elements. The Sun generates energy through nuclear fusion, a process in which hydrogen nuclei combine to form helium, releasing vast amounts of energy in the form of light and heat.\n",
            "\n",
            "The Sun's structure consists of several layers:\n",
            "\n",
            "1. **Core**: This is the innermost layer, where nuclear fusion occurs. Temperatures reach around 15 million degrees Celsius (27 million degrees Fahrenheit).\n",
            "\n",
            "2. **Radiative zone**: Surrounding the core, energy produced in the core moves outward through this layer, taking millions of years to pass through due to the dense plasma.\n",
            "\n",
            "3. **Convective zone**: Above the radiative zone, energy is transported to the surface through convection, where hot plasma rises and cooler plasma sinks.\n",
            "\n",
            "4. **Photosphere**: This is the Sun's visible surface, where light is emitted. The temperature here is about 5,500 degrees Celsius (9,932 degrees Fahrenheit).\n",
            "\n",
            "5. **Chromosphere**: Above the photosphere, this layer is visible during a solar eclipse and is characterized by a reddish color due to hydrogen emission.\n",
            "\n",
            "6. **Corona**: The outermost layer of the Sun's atmosphere, extending millions of kilometers into space and visible during a total solar eclipse. It has a much higher temperature than the layers below it, with temperatures reaching 1 to 3 million degrees Celsius (1.8 million to 5.4 million degrees Fahrenheit).\n",
            "\n",
            "The Sun plays a crucial role in supporting life on Earth by providing the necessary light and warmth. Its gravitational influence keeps the planets, including Earth, in stable orbits, and its energy drives Earth's climate and weather systems. The Sun is about 4.6 billion years old and is expected to continue shining for several billion more years before exhausting its fuel and evolving into a red giant, eventually shedding its outer layers and leaving behind a white dwarf.\n"
          ]
        }
      ]
    },
    {
      "cell_type": "code",
      "source": [
        "# Print usage metadata (tokens etc.)\n",
        "print(\"\\n--- Usage Metadata ---\")\n",
        "print(result.usage_metadata)"
      ],
      "metadata": {
        "colab": {
          "base_uri": "https://localhost:8080/"
        },
        "id": "Z69AK45jm1IS",
        "outputId": "a9827d36-7a24-44c7-8448-18f914910e37"
      },
      "execution_count": null,
      "outputs": [
        {
          "output_type": "stream",
          "name": "stdout",
          "text": [
            "\n",
            "--- Usage Metadata ---\n",
            "{'input_tokens': 12, 'output_tokens': 423, 'total_tokens': 435, 'input_token_details': {'audio': 0, 'cache_read': 0}, 'output_token_details': {'audio': 0, 'reasoning': 0}}\n"
          ]
        }
      ]
    },
    {
      "cell_type": "code",
      "source": [
        "# Print response metadata (model info etc.)\n",
        "print(\"\\n--- Response Metadata ---\")\n",
        "print(result.response_metadata)"
      ],
      "metadata": {
        "colab": {
          "base_uri": "https://localhost:8080/"
        },
        "id": "LpkNfgWNm5l5",
        "outputId": "034cb4db-6b67-4869-da1c-630eef7583dc"
      },
      "execution_count": null,
      "outputs": [
        {
          "output_type": "stream",
          "name": "stdout",
          "text": [
            "\n",
            "--- Response Metadata ---\n",
            "{'token_usage': {'completion_tokens': 423, 'prompt_tokens': 12, 'total_tokens': 435, 'completion_tokens_details': {'accepted_prediction_tokens': 0, 'audio_tokens': 0, 'reasoning_tokens': 0, 'rejected_prediction_tokens': 0}, 'prompt_tokens_details': {'audio_tokens': 0, 'cached_tokens': 0}}, 'model_name': 'gpt-4o-mini-2024-07-18', 'system_fingerprint': 'fp_8bda4d3a2c', 'id': 'chatcmpl-CDjgSrZBdl1GNNUnPs02dvK6OgFco', 'service_tier': 'default', 'finish_reason': 'stop', 'logprobs': None}\n"
          ]
        }
      ]
    },
    {
      "cell_type": "code",
      "source": [
        "# Print additional kwargs (usually empty or refusal info)\n",
        "print(\"\\n--- Additional Kwargs ---\")\n",
        "print(result.additional_kwargs)"
      ],
      "metadata": {
        "colab": {
          "base_uri": "https://localhost:8080/"
        },
        "id": "VOpJ9hwim_lD",
        "outputId": "3ef0586d-490e-4562-da05-784f8e1d41dd"
      },
      "execution_count": null,
      "outputs": [
        {
          "output_type": "stream",
          "name": "stdout",
          "text": [
            "\n",
            "--- Additional Kwargs ---\n",
            "{'refusal': None}\n"
          ]
        }
      ]
    },
    {
      "cell_type": "code",
      "source": [
        "# Print ID\n",
        "print(\"\\n--- ID ---\")\n",
        "print(result.id)"
      ],
      "metadata": {
        "colab": {
          "base_uri": "https://localhost:8080/"
        },
        "id": "fTcULS8vnJn0",
        "outputId": "6a9a5012-d19e-43af-f051-577ae08c696f"
      },
      "execution_count": null,
      "outputs": [
        {
          "output_type": "stream",
          "name": "stdout",
          "text": [
            "\n",
            "--- ID ---\n",
            "run--6bf8510c-6d56-4b9c-af7c-271fb5af0867-0\n"
          ]
        }
      ]
    },
    {
      "cell_type": "markdown",
      "source": [
        "# **OpenAI SDK**"
      ],
      "metadata": {
        "id": "IM5XJdpks63i"
      }
    },
    {
      "cell_type": "code",
      "source": [
        "#!pip install openai -q"
      ],
      "metadata": {
        "id": "9GlAWTDunKGj"
      },
      "execution_count": null,
      "outputs": []
    },
    {
      "cell_type": "code",
      "source": [
        "from openai import OpenAI\n",
        "import os\n",
        "os.environ[\"OPENAI_API_KEY\"] = \"sk-xxxxxxxxxxxxxxxxxx\"  # 🔒 Replace with your actual key"
      ],
      "metadata": {
        "id": "xxd3VCXOuqig"
      },
      "execution_count": null,
      "outputs": []
    },
    {
      "cell_type": "code",
      "source": [
        "client = OpenAI()"
      ],
      "metadata": {
        "id": "r6KV0J3ouqb5"
      },
      "execution_count": null,
      "outputs": []
    },
    {
      "cell_type": "code",
      "source": [
        "result = client.chat.completions.create(\n",
        "    model=\"gpt-4o-mini\",\n",
        "    messages=[\n",
        "        {\"role\": \"system\", \"content\": \"You are a helpful assistant.\"},\n",
        "        {\"role\": \"user\", \"content\": \"Tell me fun fact about Moon?\"},\n",
        "    ]\n",
        ")\n"
      ],
      "metadata": {
        "id": "gfM_-ZhYuqZA"
      },
      "execution_count": null,
      "outputs": []
    },
    {
      "cell_type": "code",
      "source": [
        "result"
      ],
      "metadata": {
        "colab": {
          "base_uri": "https://localhost:8080/"
        },
        "id": "bWtio9zLvJEL",
        "outputId": "d2a3b107-3fa7-4cd6-b79d-8b191c492f08"
      },
      "execution_count": null,
      "outputs": [
        {
          "output_type": "execute_result",
          "data": {
            "text/plain": [
              "ChatCompletion(id='chatcmpl-CDkH1tW6Ydbq4vw6Sgfku453cnd0R', choices=[Choice(finish_reason='stop', index=0, logprobs=None, message=ChatCompletionMessage(content='A fun fact about the Moon is that it is slowly moving away from Earth! Each year, the Moon drifts about 1.5 inches (3.8 centimeters) farther away from our planet. This gradual separation is due to the gravitational interactions between the Earth and the Moon, particularly the tidal forces caused by the Moon’s gravitational pull. Over millions of years, this means that the Moon will continue to drift away, which can affect phenomena like tides on Earth.', refusal=None, role='assistant', annotations=[], audio=None, function_call=None, tool_calls=None))], created=1757392175, model='gpt-4o-mini-2024-07-18', object='chat.completion', service_tier='default', system_fingerprint='fp_8bda4d3a2c', usage=CompletionUsage(completion_tokens=94, prompt_tokens=24, total_tokens=118, completion_tokens_details=CompletionTokensDetails(accepted_prediction_tokens=0, audio_tokens=0, reasoning_tokens=0, rejected_prediction_tokens=0), prompt_tokens_details=PromptTokensDetails(audio_tokens=0, cached_tokens=0)))"
            ]
          },
          "metadata": {},
          "execution_count": 54
        }
      ]
    },
    {
      "cell_type": "code",
      "source": [
        "# Print completion ID\n",
        "print(\"\\n--- ID ---\")\n",
        "print(result.id)"
      ],
      "metadata": {
        "colab": {
          "base_uri": "https://localhost:8080/"
        },
        "id": "obFmhQfOvKTq",
        "outputId": "b2ea189d-2a78-4293-cd49-cab651831704"
      },
      "execution_count": null,
      "outputs": [
        {
          "output_type": "stream",
          "name": "stdout",
          "text": [
            "\n",
            "--- ID ---\n",
            "chatcmpl-CDkH1tW6Ydbq4vw6Sgfku453cnd0R\n"
          ]
        }
      ]
    },
    {
      "cell_type": "code",
      "source": [
        "# Print model used\n",
        "print(\"\\n--- Model ---\")\n",
        "print(result.model)"
      ],
      "metadata": {
        "colab": {
          "base_uri": "https://localhost:8080/"
        },
        "id": "291PwPjev0Mf",
        "outputId": "953d607f-e226-4448-bb1b-ce724aa2afd4"
      },
      "execution_count": null,
      "outputs": [
        {
          "output_type": "stream",
          "name": "stdout",
          "text": [
            "\n",
            "--- Model ---\n",
            "gpt-4o-mini-2024-07-18\n"
          ]
        }
      ]
    },
    {
      "cell_type": "code",
      "source": [
        "# Print main assistant message content\n",
        "print(\"\\n--- Content ---\")\n",
        "print(result.choices[0].message.content)"
      ],
      "metadata": {
        "colab": {
          "base_uri": "https://localhost:8080/"
        },
        "id": "MHQFrXgMv8A3",
        "outputId": "f01f568e-7257-40f9-a56e-dd6abc7e1c7a"
      },
      "execution_count": null,
      "outputs": [
        {
          "output_type": "stream",
          "name": "stdout",
          "text": [
            "\n",
            "--- Content ---\n",
            "A fun fact about the Moon is that it is slowly moving away from Earth! Each year, the Moon drifts about 1.5 inches (3.8 centimeters) farther away from our planet. This gradual separation is due to the gravitational interactions between the Earth and the Moon, particularly the tidal forces caused by the Moon’s gravitational pull. Over millions of years, this means that the Moon will continue to drift away, which can affect phenomena like tides on Earth.\n"
          ]
        }
      ]
    },
    {
      "cell_type": "code",
      "source": [
        "# Print finish reason\n",
        "print(\"\\n--- Finish Reason ---\")\n",
        "print(result.choices[0].finish_reason)"
      ],
      "metadata": {
        "colab": {
          "base_uri": "https://localhost:8080/"
        },
        "id": "hQq7TxmrwKYc",
        "outputId": "f78268ec-38f2-495d-e507-bafc6c6313e7"
      },
      "execution_count": null,
      "outputs": [
        {
          "output_type": "stream",
          "name": "stdout",
          "text": [
            "\n",
            "--- Finish Reason ---\n",
            "stop\n"
          ]
        }
      ]
    },
    {
      "cell_type": "code",
      "source": [
        "# Print token usage\n",
        "print(\"\\n--- Token Usage ---\")\n",
        "print(result.usage)"
      ],
      "metadata": {
        "colab": {
          "base_uri": "https://localhost:8080/"
        },
        "id": "e_RU0hdkwK4g",
        "outputId": "98a83651-b366-4555-c046-ef61c5b1ea2e"
      },
      "execution_count": null,
      "outputs": [
        {
          "output_type": "stream",
          "name": "stdout",
          "text": [
            "\n",
            "--- Token Usage ---\n",
            "CompletionUsage(completion_tokens=94, prompt_tokens=24, total_tokens=118, completion_tokens_details=CompletionTokensDetails(accepted_prediction_tokens=0, audio_tokens=0, reasoning_tokens=0, rejected_prediction_tokens=0), prompt_tokens_details=PromptTokensDetails(audio_tokens=0, cached_tokens=0))\n"
          ]
        }
      ]
    },
    {
      "cell_type": "code",
      "source": [
        "# Print full response object (if needed)\n",
        "print(\"\\n--- Full Response ---\")\n",
        "print(result)"
      ],
      "metadata": {
        "colab": {
          "base_uri": "https://localhost:8080/"
        },
        "id": "QVwtzungwP9o",
        "outputId": "b61eb92b-d3c1-45fe-dde6-e9f8759da35a"
      },
      "execution_count": null,
      "outputs": [
        {
          "output_type": "stream",
          "name": "stdout",
          "text": [
            "\n",
            "--- Full Response ---\n",
            "ChatCompletion(id='chatcmpl-CDkH1tW6Ydbq4vw6Sgfku453cnd0R', choices=[Choice(finish_reason='stop', index=0, logprobs=None, message=ChatCompletionMessage(content='A fun fact about the Moon is that it is slowly moving away from Earth! Each year, the Moon drifts about 1.5 inches (3.8 centimeters) farther away from our planet. This gradual separation is due to the gravitational interactions between the Earth and the Moon, particularly the tidal forces caused by the Moon’s gravitational pull. Over millions of years, this means that the Moon will continue to drift away, which can affect phenomena like tides on Earth.', refusal=None, role='assistant', annotations=[], audio=None, function_call=None, tool_calls=None))], created=1757392175, model='gpt-4o-mini-2024-07-18', object='chat.completion', service_tier='default', system_fingerprint='fp_8bda4d3a2c', usage=CompletionUsage(completion_tokens=94, prompt_tokens=24, total_tokens=118, completion_tokens_details=CompletionTokensDetails(accepted_prediction_tokens=0, audio_tokens=0, reasoning_tokens=0, rejected_prediction_tokens=0), prompt_tokens_details=PromptTokensDetails(audio_tokens=0, cached_tokens=0)))\n"
          ]
        }
      ]
    }
  ]
}