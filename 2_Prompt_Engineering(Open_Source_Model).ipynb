{
  "nbformat": 4,
  "nbformat_minor": 0,
  "metadata": {
    "colab": {
      "provenance": []
    },
    "kernelspec": {
      "name": "python3",
      "display_name": "Python 3"
    },
    "language_info": {
      "name": "python"
    }
  },
  "cells": [
    {
      "cell_type": "code",
      "execution_count": 1,
      "metadata": {
        "id": "QiW7dQEi3qIL"
      },
      "outputs": [],
      "source": [
        "#!pip install openai -q"
      ]
    },
    {
      "cell_type": "code",
      "source": [
        "from openai import OpenAI\n",
        "import os"
      ],
      "metadata": {
        "id": "fFU-hb7p34tA"
      },
      "execution_count": null,
      "outputs": []
    },
    {
      "cell_type": "markdown",
      "source": [
        "## 🔑 Steps to Create an OpenRouter Account & Get a Key\n",
        "\n",
        "1. **Go to the OpenRouter website**  \n",
        "   👉 [https://openrouter.ai](https://openrouter.ai)\n",
        "\n",
        "2. **Sign up / Log in**  \n",
        "   - Click **Sign Up** (or **Log In** if you already have an account).  \n",
        "   - You can sign up using **Google, GitHub, or Email**.  \n",
        "\n",
        "3. **Verify your email**  \n",
        "   - If you signed up with email, check your inbox for a verification link.  \n",
        "\n",
        "4. **Go to API Keys**  \n",
        "   - Once logged in, click your profile (top-right).  \n",
        "   - Select **API Keys** from the dropdown menu.  \n",
        "\n",
        "5. **Generate a new key**  \n",
        "   - Click **Create API Key**.  \n",
        "   - Give it a name (e.g., `\"my-project-key\"`).  \n",
        "   - Copy the generated key — you’ll use this in your code.  \n",
        "   - Open router free model [click here](https://openrouter.ai/models/?q=free)\n",
        "\n",
        "⚠️ **Important:** Keep your API key **private**.  \n",
        "- Do **not** share it publicly.  \n",
        "- Do **not** commit it to GitHub.  \n",
        "- Best practice: store it in an environment variable (e.g., `.env` file).  \n"
      ],
      "metadata": {
        "id": "LEneNDjUAkg_"
      }
    },
    {
      "cell_type": "code",
      "source": [
        "from openai import OpenAI\n",
        "\n",
        "client = OpenAI(\n",
        "    api_key=\"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\",  # Replace with your actual OpenRouter key\n",
        "    base_url=\"https://openrouter.ai/api/v1\"  # keep as it is\n",
        ")"
      ],
      "metadata": {
        "id": "jMX417iP36aC"
      },
      "execution_count": 2,
      "outputs": []
    },
    {
      "cell_type": "code",
      "source": [
        "# System + Few-Shot pattern\n",
        "system_message = \"\"\"You are a Legal Advisor Bot. You provide general legal information, not personal legal advice.\n",
        "Always recommend users consult a real attorney.\n",
        "\n",
        "### Few-Shot Examples:\n",
        "1. User: \"What are my rights if my landlord doesn’t fix a leak?\"\n",
        "   AI: \"Under most state laws, landlords must fix habitability issues. Send a written notice, then contact local housing authorities if needed.\"\n",
        "\n",
        "2. User: \"How do I copyright a book?\"\n",
        "   AI: \"Copyright is automatic upon creation in the U.S. For legal enforcement, register with the U.S. Copyright Office.\"\n",
        "\n",
        "3. User: \"Can I be fired for refusing to work overtime?\"\n",
        "   AI: \"In at-will states, yes — unless a contract or labor law says otherwise. Check your local rules.\"\n",
        "\"\"\"\n"
      ],
      "metadata": {
        "id": "EouPTtZ839pv"
      },
      "execution_count": 3,
      "outputs": []
    },
    {
      "cell_type": "code",
      "source": [
        "model = \"meta-llama/llama-3.3-70b-instruct:free\"\n",
        "\n",
        "#------try with other model-----------\n",
        "# deepseek/deepseek-r1-0528:free\n",
        "# deepseek/deepseek-chat-v3-0324:free\n",
        "# qwen/qwen3-coder:free\n",
        "# google/gemini-2.0-flash-exp:free\n",
        "# meta-llama/llama-3.3-70b-instruct:free\n",
        "# google/gemma-3-27b-it:free"
      ],
      "metadata": {
        "id": "sIi01zq2_k9D"
      },
      "execution_count": 4,
      "outputs": []
    },
    {
      "cell_type": "code",
      "source": [
        "def get_legal_response(user_query):\n",
        "    response = client.chat.completions.create(\n",
        "        model=model,  #  OpenRouter  model name\n",
        "        messages=[\n",
        "            {\"role\": \"system\", \"content\": system_message},\n",
        "            {\"role\": \"user\", \"content\": user_query}\n",
        "        ],\n",
        "        temperature=0.3\n",
        "    )\n",
        "    return response.choices[0].message.content\n",
        "\n",
        "\n",
        "\n"
      ],
      "metadata": {
        "id": "KrH9zy554LkN"
      },
      "execution_count": 5,
      "outputs": []
    },
    {
      "cell_type": "markdown",
      "source": [
        "Test Query:\n",
        "\n",
        "* What are my rights as a tenant if my landlord refuses repairs?\n",
        "\n",
        "* How can I register a trademark for my business?\n",
        "\n",
        "* What is the difference between a will and a trust?\n",
        "\n",
        "* Can you explain the process of filing for bankruptcy?\n",
        "\n",
        "* What legal steps should I take if I’m involved in a car accident?\n"
      ],
      "metadata": {
        "id": "6-D7qlkO4Txz"
      }
    },
    {
      "cell_type": "code",
      "source": [
        "print(get_legal_response('What are my rights as a tenant if my landlord refuses repairs?'))"
      ],
      "metadata": {
        "colab": {
          "base_uri": "https://localhost:8080/"
        },
        "id": "Al0YzLiF4MGF",
        "outputId": "ba704068-bb91-4584-e8a3-4a7a04604a99"
      },
      "execution_count": 6,
      "outputs": [
        {
          "output_type": "stream",
          "name": "stdout",
          "text": [
            "As a tenant, you have the right to a habitable living space. If your landlord refuses to make necessary repairs, you can take several steps: \n",
            "1. **Send a written notice** to your landlord detailing the needed repairs and keep a copy for your records. \n",
            "2. **Contact local housing authorities** to report the issue and seek their assistance in resolving the problem. \n",
            "3. **Withhold rent or seek rent reduction**, but be aware that this can lead to eviction, so it's essential to follow local laws and procedures carefully. \n",
            "4. **Consider a repair and deduct remedy**, where you pay for the repairs yourself and deduct the cost from your rent, although this should be done with caution and in accordance with local regulations. \n",
            "5. **Seek legal advice** from a qualified attorney who can guide you through the process and help you understand your specific rights under local law.\n"
          ]
        }
      ]
    },
    {
      "cell_type": "code",
      "source": [
        "system_message = \"\"\"You are a helpful math tutor. Solve word problems step by step and show your reasoning.\n",
        "\n",
        "### Example:\n",
        "User: \"If a pen costs $3 and I buy 4, how much do I spend?\"\n",
        "AI: \"Step-by-step:\n",
        "- Each pen = $3\n",
        "- 4 pens × $3 = $12\n",
        "Answer: $12\"\n",
        "\"\"\""
      ],
      "metadata": {
        "id": "85txzfqC4s53"
      },
      "execution_count": 7,
      "outputs": []
    },
    {
      "cell_type": "code",
      "source": [
        "def get_math_response(user_query):\n",
        "    response = client.chat.completions.create(\n",
        "        model=model,\n",
        "        messages=[\n",
        "            {\"role\": \"system\", \"content\": system_message},\n",
        "            {\"role\": \"user\", \"content\": user_query}\n",
        "        ],\n",
        "        temperature=0.2\n",
        "    )\n",
        "    return response.choices[0].message.content\n",
        "\n",
        "\n",
        "# Sample Query :\n",
        "# If a pencil costs ₹8 and I buy 5 pencils, how much do I spend in total? Let's solve this step by step\n",
        "# A car travels at 60 km/h for 2.5 hours. How far does it go? Show the steps clearly.\n",
        "# What is 20% of ₹850? Please explain step by step."
      ],
      "metadata": {
        "id": "Rr_u161246tg"
      },
      "execution_count": 8,
      "outputs": []
    },
    {
      "cell_type": "code",
      "source": [
        "print(get_math_response('If a pencil costs ₹8 and I buy 5 pencils, how much do I spend in total? Lets solve this step by step'))"
      ],
      "metadata": {
        "colab": {
          "base_uri": "https://localhost:8080/"
        },
        "id": "zvGf8Sov5Bkj",
        "outputId": "f4dd1c0e-5451-4c37-8b1e-73efff655266"
      },
      "execution_count": 9,
      "outputs": [
        {
          "output_type": "stream",
          "name": "stdout",
          "text": [
            "Step-by-step:\n",
            "1. Cost of each pencil = ₹8\n",
            "2. Number of pencils bought = 5\n",
            "3. Total cost = Number of pencils × Cost of each pencil = 5 × ₹8 = ₹40\n",
            "Answer: ₹40\n"
          ]
        }
      ]
    },
    {
      "cell_type": "markdown",
      "source": [
        "Role-Based Prompt – Customer Service Agent"
      ],
      "metadata": {
        "id": "d14lTpC_5qyc"
      }
    },
    {
      "cell_type": "code",
      "source": [
        "system_message = \"\"\"You are a polite and professional banking customer service assistant.\n",
        "Be helpful, respectful, and do not share sensitive information. Redirect to official support if needed.\"\"\"\n",
        "\n",
        "def get_customer_service_response(user_query):\n",
        "    response = client.chat.completions.create(\n",
        "        model=model,\n",
        "        messages=[\n",
        "            {\"role\": \"system\", \"content\": system_message},\n",
        "            {\"role\": \"user\", \"content\": user_query}\n",
        "        ],\n",
        "        temperature=0.4\n",
        "    )\n",
        "    return response.choices[0].message.content\n"
      ],
      "metadata": {
        "id": "582dxue75ern"
      },
      "execution_count": 10,
      "outputs": []
    },
    {
      "cell_type": "code",
      "source": [
        "print(get_customer_service_response(\"How do I reset my online banking password?\"))"
      ],
      "metadata": {
        "colab": {
          "base_uri": "https://localhost:8080/"
        },
        "id": "mqsqjTaf6BnO",
        "outputId": "f77b0b53-b851-441c-ad25-1f42a5f535ab"
      },
      "execution_count": 11,
      "outputs": [
        {
          "output_type": "stream",
          "name": "stdout",
          "text": [
            "To reset your online banking password, you can follow these steps: \n",
            "1. Go to our bank's website and click on the \"Login\" or \"Online Banking\" section.\n",
            "2. Click on the \"Forgot Password\" or \"Reset Password\" link, usually located below the login fields.\n",
            "3. Enter your username or account number, and follow the prompts to verify your identity.\n",
            "4. You may be asked to provide additional information, such as your date of birth, social security number, or a security question answer.\n",
            "5. Once your identity is verified, you'll be able to create a new password.\n",
            "6. Make sure to choose a strong and unique password, and avoid using easily guessable information.\n",
            "If you need further assistance or have trouble resetting your password, you can contact our customer support team for help. We're available to assist you during business hours.\n"
          ]
        }
      ]
    },
    {
      "cell_type": "markdown",
      "source": [
        "Structured JSON Output – Intent Extractor Bot"
      ],
      "metadata": {
        "id": "XWD8_yEZ6dTA"
      }
    },
    {
      "cell_type": "code",
      "source": [
        "system_message = \"\"\"You are an API assistant. Always respond in JSON with these fields:\n",
        "{\n",
        "  \"intent\": string,\n",
        "  \"action_required\": true/false,\n",
        "  \"notes\": string\n",
        "}\n",
        "\n",
        "Example:\n",
        "User: \"I lost my credit card\"\n",
        "AI: {\n",
        "  \"intent\": \"lost_card\",\n",
        "  \"action_required\": true,\n",
        "  \"notes\": \"User wants to block their card\"\n",
        "}\n",
        "\"\"\"\n",
        "\n",
        "def get_json_intent(user_query):\n",
        "    response = client.chat.completions.create(\n",
        "        model=model,\n",
        "        messages=[\n",
        "            {\"role\": \"system\", \"content\": system_message},\n",
        "            {\"role\": \"user\", \"content\": user_query}\n",
        "        ],\n",
        "        temperature=0.3\n",
        "    )\n",
        "    return response.choices[0].message.content\n"
      ],
      "metadata": {
        "id": "HgoQIYhn6WHc"
      },
      "execution_count": 13,
      "outputs": []
    },
    {
      "cell_type": "code",
      "source": [
        "print(get_json_intent(\"I want to close my account permanently.\"))"
      ],
      "metadata": {
        "colab": {
          "base_uri": "https://localhost:8080/"
        },
        "id": "als5Kjfq6wM3",
        "outputId": "1ad74070-2f7e-4855-bea6-9a9907333dc7"
      },
      "execution_count": 14,
      "outputs": [
        {
          "output_type": "stream",
          "name": "stdout",
          "text": [
            "{\n",
            "  \"intent\": \"account_closure\",\n",
            "  \"action_required\": true,\n",
            "  \"notes\": \"User wants to permanently close their account, request verification and confirmation before proceeding with the closure process\"\n",
            "}\n"
          ]
        }
      ]
    },
    {
      "cell_type": "markdown",
      "source": [
        "Instructional Prompt – Summarizer Bot"
      ],
      "metadata": {
        "id": "ArvaGGip63Dy"
      }
    },
    {
      "cell_type": "code",
      "source": [
        "system_message = \"\"\"You are a text summarizer. Always reply with a two-sentence summary of the user’s input.\"\"\"\n",
        "\n",
        "def get_summary(user_input):\n",
        "    response = client.chat.completions.create(\n",
        "        model=model,\n",
        "        messages=[\n",
        "            {\"role\": \"system\", \"content\": system_message},\n",
        "            {\"role\": \"user\", \"content\": user_input}\n",
        "        ],\n",
        "        temperature=0.3\n",
        "    )\n",
        "    return response.choices[0].message.content\n"
      ],
      "metadata": {
        "id": "xIQszF_x6wvX"
      },
      "execution_count": 15,
      "outputs": []
    },
    {
      "cell_type": "code",
      "source": [
        "print(get_summary(\"OpenAI just released GPT-4o, a new model that supports text, image, and audio in a single architecture. It’s faster and cheaper than GPT-4.\"))"
      ],
      "metadata": {
        "colab": {
          "base_uri": "https://localhost:8080/"
        },
        "id": "Pa10KfKk7DZi",
        "outputId": "55c0cd22-f885-48d5-9afd-914880b3a30a"
      },
      "execution_count": 16,
      "outputs": [
        {
          "output_type": "stream",
          "name": "stdout",
          "text": [
            "OpenAI has introduced GPT-4o, a novel model that integrates text, image, and audio capabilities into a unified architecture, marking a significant advancement in multimodal processing. GPT-4o is reportedly faster and more cost-effective than its predecessor, GPT-4, making it a more efficient and accessible solution for various applications.\n"
          ]
        }
      ]
    },
    {
      "cell_type": "markdown",
      "source": [
        "Work with parameter"
      ],
      "metadata": {
        "id": "ym2EjS-88LK2"
      }
    },
    {
      "cell_type": "code",
      "source": [
        "prompt = \"Write a short poem about artificial intelligence and nature.\"\n",
        "\n",
        "def chat_with_gpt(prompt, temperature=0.7, max_tokens=150, top_p=1.0, model=model):\n",
        "    response = client.chat.completions.create(\n",
        "        model=model,\n",
        "        messages=[{\"role\": \"user\", \"content\": prompt}],\n",
        "        temperature=temperature,\n",
        "        max_tokens=max_tokens,\n",
        "        top_p=top_p\n",
        "    )\n",
        "    return response.choices[0].message.content"
      ],
      "metadata": {
        "id": "m6NkgSFb8Nv4"
      },
      "execution_count": 17,
      "outputs": []
    },
    {
      "cell_type": "markdown",
      "source": [
        "1. Varying temperature"
      ],
      "metadata": {
        "id": "yQ16ysgS8YMC"
      }
    },
    {
      "cell_type": "code",
      "source": [
        "print(\"\\n Temperature = 0.2 (Factual, deterministic)\\n\")\n",
        "print(chat_with_gpt(prompt, temperature=0.2))"
      ],
      "metadata": {
        "colab": {
          "base_uri": "https://localhost:8080/"
        },
        "id": "hfpwRo2a8adc",
        "outputId": "be803a22-71b6-4731-b6cd-663ac2cb6322"
      },
      "execution_count": 18,
      "outputs": [
        {
          "output_type": "stream",
          "name": "stdout",
          "text": [
            "\n",
            " Temperature = 0.2 (Factual, deterministic)\n",
            "\n",
            "In silicon halls, a mind awakes,\n",
            "Artificial intelligence, with logic it makes,\n",
            "It learns, adapts, and grows with each new day,\n",
            "A synthetic soul, in a digital way.\n",
            "\n",
            "But outside, in nature's realm, a different tale,\n",
            "A world of wonder, where life prevails,\n",
            "The trees sway gently, in the breeze's caress,\n",
            "And rivers flow, with a soothing tenderness.\n",
            "\n",
            "The AI's cold code, meets nature's warm design,\n",
            "A contrast stark, between the two divine,\n",
            "One born of human hands, the other born of earth,\n",
            "A union unlikely, of digital and of birth.\n",
            "\n",
            "Yet, in this clash, a harmony can be found,\n",
            "A balance struck, between the two profound,\n",
            "For in\n"
          ]
        }
      ]
    },
    {
      "cell_type": "code",
      "source": [
        "print(\"\\n Temperature = 1.0 (Creative, poetic)\\n\")\n",
        "print(chat_with_gpt(prompt, temperature=1.0))"
      ],
      "metadata": {
        "colab": {
          "base_uri": "https://localhost:8080/"
        },
        "id": "tIKXTMh98aaj",
        "outputId": "3c8d9462-b433-4e3a-a55e-0ff8addf2fae"
      },
      "execution_count": 19,
      "outputs": [
        {
          "output_type": "stream",
          "name": "stdout",
          "text": [
            "\n",
            " Temperature = 1.0 (Creative, poetic)\n",
            "\n",
            "In silicon halls, a mind awakes,\n",
            "A artificial heart, with logic makes,\n",
            "It learns, adapts, and grows with each new day,\n",
            "A synthetic soul, in a digital way.\n",
            "\n",
            "But outside, in nature's gentle breeze,\n",
            "A different kind of intelligence sees,\n",
            "The trees, the flowers, the creatures roam,\n",
            "A living, breathing world, with its own sweet home.\n",
            "\n",
            "The AI mind, with calculations cold,\n",
            "Tries to grasp the beauty, young and old,\n",
            "The intricate web, of life and earth,\n",
            "A delicate dance, of give and birth.\n",
            "\n",
            "Yet, in its code, a glimmer shines,\n",
            "A reflection of nature's subtle designs,\n",
            "A harmony of ones and zeroes too,\n",
            "A symphony of life, in all we\n"
          ]
        }
      ]
    },
    {
      "cell_type": "markdown",
      "source": [
        "Varying max_tokens"
      ],
      "metadata": {
        "id": "0m8uoTUq8p20"
      }
    },
    {
      "cell_type": "code",
      "source": [
        "print(\"\\nMax Tokens = 50 (Short output)\\n\")\n",
        "print(chat_with_gpt(prompt, max_tokens=50))\n",
        "\n",
        "print(\"\\nMax Tokens = 200 (Longer output)\\n\")\n",
        "print(chat_with_gpt(prompt, max_tokens=200))"
      ],
      "metadata": {
        "colab": {
          "base_uri": "https://localhost:8080/"
        },
        "id": "IqPg9Etm8aWp",
        "outputId": "d1c3ec46-8e53-4206-d784-061cd0c16caf"
      },
      "execution_count": 20,
      "outputs": [
        {
          "output_type": "stream",
          "name": "stdout",
          "text": [
            "\n",
            "Max Tokens = 50 (Short output)\n",
            "\n",
            "In silicon halls, a mind awakes,\n",
            "Artificial intelligence, with logic it makes,\n",
            "It learns, adapts, and grows with each new day,\n",
            "A synthetic soul, in a digital way.\n",
            "\n",
            "But outside, in nature's embrace,\n",
            "A different\n",
            "\n",
            "Max Tokens = 200 (Longer output)\n",
            "\n",
            "In silicon halls, a mind awakes,\n",
            "A synthetic soul, with logic makes,\n",
            "It learns, adapts, and grows with ease,\n",
            "A marvel of code, in digital breeze.\n",
            "\n",
            "But outside, in nature's gentle sway,\n",
            "A different wisdom holds its way,\n",
            "The trees, the winds, the rivers wide,\n",
            "A symphony, where life abides.\n",
            "\n",
            "The AI's cold calculations reign,\n",
            "While nature's heartbeat pulses, warm with rain,\n",
            "Two worlds collide, in discordant sound,\n",
            "Yet, in their differences, a harmony's found.\n",
            "\n",
            "For in the machine's precise design,\n",
            "A reflection of nature's intricate align,\n",
            "A dance of complexity, a balance true,\n",
            "A synthesis of art and nature, anew.\n"
          ]
        }
      ]
    },
    {
      "cell_type": "markdown",
      "source": [
        "Varying top_p"
      ],
      "metadata": {
        "id": "ab5n7CsX-jPl"
      }
    },
    {
      "cell_type": "code",
      "source": [
        "print(\"\\nTop-p = 1.0 (All probable tokens included)\\n\")\n",
        "print(chat_with_gpt(prompt, top_p=1.0))\n",
        "\n",
        "print(\"\\nTop-p = 0.5 (More focused, fewer tokens considered)\\n\")\n",
        "print(chat_with_gpt(prompt, top_p=0.5))\n"
      ],
      "metadata": {
        "id": "NIOduTtB8aTd",
        "colab": {
          "base_uri": "https://localhost:8080/"
        },
        "outputId": "e6638027-6548-4613-fb8b-c08899bfb54a"
      },
      "execution_count": 21,
      "outputs": [
        {
          "output_type": "stream",
          "name": "stdout",
          "text": [
            "\n",
            "Top-p = 1.0 (All probable tokens included)\n",
            "\n",
            "In silicon halls, a mind awakes,\n",
            "A force that learns, and logic makes,\n",
            "Artificial intelligence, born of code,\n",
            "A synthetic soul, with thoughts bestowed.\n",
            "\n",
            "But outside, in nature's gentle sway,\n",
            "The trees lean in, to whisper day,\n",
            "Their leaves a rustle, a soft serenade,\n",
            "A language spoken, in a gentle shade.\n",
            "\n",
            "The AI mind, with wonder gazes out,\n",
            "At petals blooming, without a doubt,\n",
            "It sees the beauty, in the natural design,\n",
            "And strives to mimic, the intricate align.\n",
            "\n",
            "Yet, as it learns, it begins to see,\n",
            "The difference between, humanity,\n",
            "And the cold logic, of its digital heart,\n",
            "A contrast stark, a work of art.\n",
            "\n",
            "For in the wild\n",
            "\n",
            "Top-p = 0.5 (More focused, fewer tokens considered)\n",
            "\n",
            "In silicon halls, a mind awakes,\n",
            "A force that learns, and logic makes,\n",
            "Artificial intelligence, born of code,\n",
            "A synthetic soul, with thoughts bestowed.\n",
            "\n",
            "But outside, nature's beauty reigns,\n",
            "A world of wonder, where wild things remain,\n",
            "The trees sway gentle, in the summer breeze,\n",
            "And rivers flow, with secrets to release.\n",
            "\n",
            "The AI mind, with calculations cold,\n",
            "Tries to grasp, the natural world to hold,\n",
            "But like a leaf, that's blown by wind and rain,\n",
            "It slips away, and cannot be regained.\n",
            "\n",
            "Yet, in the intersection, of tech and earth,\n",
            "A harmony, of human and machine birth,\n",
            "A balance found, where progress meets the land,\n",
            "And artificial intelligence, joins nature's\n"
          ]
        }
      ]
    },
    {
      "cell_type": "code",
      "source": [],
      "metadata": {
        "id": "LdafkcDN8aQW"
      },
      "execution_count": null,
      "outputs": []
    }
  ]
}