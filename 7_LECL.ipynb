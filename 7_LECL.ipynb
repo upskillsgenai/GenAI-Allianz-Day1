{
  "cells": [
    {
      "cell_type": "markdown",
      "metadata": {
        "id": "BEvLAavQJYVq"
      },
      "source": [
        "# **Simple Chain with LCEL**"
      ]
    },
    {
      "cell_type": "code",
      "execution_count": 6,
      "metadata": {
        "id": "L0x8NyyyK7Ug"
      },
      "outputs": [],
      "source": [
        "from langchain_openai import ChatOpenAI\n",
        "from langchain_core.prompts import PromptTemplate\n",
        "from langchain_core.output_parsers import StrOutputParser"
      ]
    },
    {
      "cell_type": "code",
      "execution_count": null,
      "metadata": {
        "id": "iLxzJuByLACM"
      },
      "outputs": [],
      "source": [
        "import os\n",
        "os.environ['OPENAI_API_KEY'] = 'sk-proj-xxxxxxxxxxxxxxxxxxx'\n"
      ]
    },
    {
      "cell_type": "code",
      "execution_count": 8,
      "metadata": {
        "id": "Q9rZ8OX2K7Xo"
      },
      "outputs": [],
      "source": [
        "prompt = PromptTemplate(\n",
        "    template='Generate 5 interesting facts about {topic}',\n",
        "    input_variables=['topic']\n",
        ")\n"
      ]
    },
    {
      "cell_type": "code",
      "execution_count": 9,
      "metadata": {
        "id": "jluaDUD2K7af"
      },
      "outputs": [],
      "source": [
        "model = ChatOpenAI()\n",
        "parser = StrOutputParser()\n",
        "chain = prompt | model | parser\n",
        "result = chain.invoke({'topic':'cricket'})"
      ]
    },
    {
      "cell_type": "code",
      "execution_count": 10,
      "metadata": {
        "colab": {
          "base_uri": "https://localhost:8080/"
        },
        "id": "pjUiBtjjLJNz",
        "outputId": "65664b68-c1b1-4269-a25f-f2bfa3f3b963"
      },
      "outputs": [
        {
          "name": "stdout",
          "output_type": "stream",
          "text": [
            "1. Cricket is one of the oldest team sports in the world, with origins dating back to the 16th century in England.\n",
            "\n",
            "2. The longest recorded cricket match lasted for 14 days, played between England and South Africa in 1939.\n",
            "\n",
            "3. The highest individual score in a Test match is 400* by Brian Lara of the West Indies, achieved against England in 2004.\n",
            "\n",
            "4. The Cricket World Cup is the third most-watched sporting event in the world, behind the FIFA World Cup and the Olympic Games.\n",
            "\n",
            "5. The Ashes series, played between England and Australia, is one of the oldest and most prestigious rivalries in cricket, dating back to 1882.\n"
          ]
        }
      ],
      "source": [
        "print(result)"
      ]
    },
    {
      "cell_type": "code",
      "execution_count": 11,
      "metadata": {
        "colab": {
          "base_uri": "https://localhost:8080/"
        },
        "id": "C9iYDCguLJQg",
        "outputId": "d0bb2750-938d-4718-e918-c0573d7ea0af"
      },
      "outputs": [
        {
          "name": "stdout",
          "output_type": "stream",
          "text": [
            "     +-------------+       \n",
            "     | PromptInput |       \n",
            "     +-------------+       \n",
            "            *              \n",
            "            *              \n",
            "            *              \n",
            "    +----------------+     \n",
            "    | PromptTemplate |     \n",
            "    +----------------+     \n",
            "            *              \n",
            "            *              \n",
            "            *              \n",
            "      +------------+       \n",
            "      | ChatOpenAI |       \n",
            "      +------------+       \n",
            "            *              \n",
            "            *              \n",
            "            *              \n",
            "   +-----------------+     \n",
            "   | StrOutputParser |     \n",
            "   +-----------------+     \n",
            "            *              \n",
            "            *              \n",
            "            *              \n",
            "+-----------------------+  \n",
            "| StrOutputParserOutput |  \n",
            "+-----------------------+  \n"
          ]
        }
      ],
      "source": [
        "chain.get_graph().print_ascii()"
      ]
    },
    {
      "cell_type": "markdown",
      "metadata": {
        "id": "VHCWED3LLzyW"
      },
      "source": [
        "Sequential Chain"
      ]
    },
    {
      "cell_type": "code",
      "execution_count": 12,
      "metadata": {
        "id": "YIFvkUEKLYo2"
      },
      "outputs": [],
      "source": [
        "from langchain_openai import ChatOpenAI\n",
        "from langchain_core.prompts import PromptTemplate\n",
        "from langchain_core.output_parsers import StrOutputParser"
      ]
    },
    {
      "cell_type": "code",
      "execution_count": 13,
      "metadata": {
        "id": "CWqUgcTbL-q3"
      },
      "outputs": [],
      "source": [
        "prompt1 = PromptTemplate(\n",
        "    template='Generate a detailed report on {topic}',\n",
        "    input_variables=['topic']\n",
        ")\n"
      ]
    },
    {
      "cell_type": "code",
      "execution_count": 14,
      "metadata": {
        "id": "wuk4BIbRMBBf"
      },
      "outputs": [],
      "source": [
        "prompt2 = PromptTemplate(\n",
        "    template='Generate a 5 pointer summary from the following text \\n {text}',\n",
        "    input_variables=['text']\n",
        ")"
      ]
    },
    {
      "cell_type": "code",
      "execution_count": 18,
      "metadata": {
        "id": "LBxwzmfIMGwi"
      },
      "outputs": [],
      "source": [
        "model = ChatOpenAI()\n",
        "parser = StrOutputParser()\n",
        "chain = prompt1 | model | parser | prompt2 | model | parser\n",
        "result = chain.invoke({'topic': 'Unemployment in India'})"
      ]
    },
    {
      "cell_type": "code",
      "execution_count": 19,
      "metadata": {
        "colab": {
          "base_uri": "https://localhost:8080/"
        },
        "id": "SGK9b22aMPxV",
        "outputId": "318dccc4-3046-4da1-ecc4-c7bbbd432a65"
      },
      "outputs": [
        {
          "name": "stdout",
          "output_type": "stream",
          "text": [
            "1. Unemployment rate in India was 7.97% in September 2021, significantly lower than the peak of 23.52% in April 2020 during the COVID-19 pandemic.\n",
            "2. The youth unemployment rate is particularly high, indicating a struggle for young individuals to find stable job opportunities.\n",
            "3. Causes of unemployment include rapid population growth, inadequate job creation, lack of skill development, economic slowdowns, and gender disparities.\n",
            "4. Consequences of unemployment include economic hardship, loss of human capital, social unrest, and mental health issues.\n",
            "5. Potential solutions to address unemployment in India include promoting skill development, encouraging entrepreneurship, investing in key sectors, implementing labor market reforms, and promoting gender equality in the workforce.\n"
          ]
        }
      ],
      "source": [
        "print(result)"
      ]
    },
    {
      "cell_type": "code",
      "execution_count": 20,
      "metadata": {
        "colab": {
          "base_uri": "https://localhost:8080/"
        },
        "id": "PIdCmRalMPuf",
        "outputId": "a1b8ec36-5ad2-4d41-8c09-28b4c6b4c6d6"
      },
      "outputs": [
        {
          "name": "stdout",
          "output_type": "stream",
          "text": [
            "     +-------------+       \n",
            "     | PromptInput |       \n",
            "     +-------------+       \n",
            "            *              \n",
            "            *              \n",
            "            *              \n",
            "    +----------------+     \n",
            "    | PromptTemplate |     \n",
            "    +----------------+     \n",
            "            *              \n",
            "            *              \n",
            "            *              \n",
            "      +------------+       \n",
            "      | ChatOpenAI |       \n",
            "      +------------+       \n",
            "            *              \n",
            "            *              \n",
            "            *              \n",
            "   +-----------------+     \n",
            "   | StrOutputParser |     \n",
            "   +-----------------+     \n",
            "            *              \n",
            "            *              \n",
            "            *              \n",
            "+-----------------------+  \n",
            "| StrOutputParserOutput |  \n",
            "+-----------------------+  \n",
            "            *              \n",
            "            *              \n",
            "            *              \n",
            "    +----------------+     \n",
            "    | PromptTemplate |     \n",
            "    +----------------+     \n",
            "            *              \n",
            "            *              \n",
            "            *              \n",
            "      +------------+       \n",
            "      | ChatOpenAI |       \n",
            "      +------------+       \n",
            "            *              \n",
            "            *              \n",
            "            *              \n",
            "   +-----------------+     \n",
            "   | StrOutputParser |     \n",
            "   +-----------------+     \n",
            "            *              \n",
            "            *              \n",
            "            *              \n",
            "+-----------------------+  \n",
            "| StrOutputParserOutput |  \n",
            "+-----------------------+  \n"
          ]
        }
      ],
      "source": [
        "chain.get_graph().print_ascii()"
      ]
    },
    {
      "cell_type": "markdown",
      "metadata": {},
      "source": [
        "CommaSeparatedListOutputParser"
      ]
    },
    {
      "cell_type": "code",
      "execution_count": 28,
      "metadata": {},
      "outputs": [],
      "source": [
        "from langchain_openai import ChatOpenAI\n",
        "from langchain.prompts import ChatPromptTemplate\n",
        "from langchain.output_parsers import CommaSeparatedListOutputParser\n",
        "\n",
        "# Step 1: Define the LLM\n",
        "llm = ChatOpenAI(model=\"gpt-4o-mini\", temperature=0)\n",
        "\n",
        "# Step 2: Create a parser\n",
        "parser = CommaSeparatedListOutputParser()\n",
        "\n",
        "# Step 3: Create a prompt (with format instructions!)\n",
        "prompt = ChatPromptTemplate.from_template(\n",
        "    \"List 5 popular programming languages as a comma-separated list.\"\n",
        ")"
      ]
    },
    {
      "cell_type": "code",
      "execution_count": 29,
      "metadata": {},
      "outputs": [],
      "source": [
        "# Step 4: Chain together\n",
        "chain = prompt | llm | parser\n"
      ]
    },
    {
      "cell_type": "code",
      "execution_count": 30,
      "metadata": {},
      "outputs": [],
      "source": [
        "# Step 5: Run the chain\n",
        "result = chain.invoke({})\n"
      ]
    },
    {
      "cell_type": "code",
      "execution_count": 31,
      "metadata": {},
      "outputs": [
        {
          "name": "stdout",
          "output_type": "stream",
          "text": [
            "['Python', 'JavaScript', 'Java', 'C#', 'C++']\n"
          ]
        }
      ],
      "source": [
        "print(result)"
      ]
    },
    {
      "cell_type": "code",
      "execution_count": null,
      "metadata": {},
      "outputs": [],
      "source": []
    }
  ],
  "metadata": {
    "colab": {
      "provenance": []
    },
    "kernelspec": {
      "display_name": "labenv1 (3.10.0)",
      "language": "python",
      "name": "python3"
    },
    "language_info": {
      "codemirror_mode": {
        "name": "ipython",
        "version": 3
      },
      "file_extension": ".py",
      "mimetype": "text/x-python",
      "name": "python",
      "nbconvert_exporter": "python",
      "pygments_lexer": "ipython3",
      "version": "3.10.0"
    }
  },
  "nbformat": 4,
  "nbformat_minor": 0
}
