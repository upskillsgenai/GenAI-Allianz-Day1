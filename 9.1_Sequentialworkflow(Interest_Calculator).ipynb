{
  "nbformat": 4,
  "nbformat_minor": 0,
  "metadata": {
    "colab": {
      "provenance": []
    },
    "kernelspec": {
      "name": "python3",
      "display_name": "Python 3"
    },
    "language_info": {
      "name": "python"
    }
  },
  "cells": [
    {
      "cell_type": "markdown",
      "source": [
        "# **Assignment**\n",
        "\n",
        "Build a Simple Interest Calculator to Calculate Final amount using LangGraph"
      ],
      "metadata": {
        "id": "DZYcGMBt_vhM"
      }
    },
    {
      "cell_type": "code",
      "source": [
        "from langgraph.graph import StateGraph, START, END\n",
        "from typing import TypedDict\n",
        "\n",
        "# Step 1: Define the state\n",
        "class SIState(TypedDict):\n",
        "    principal: float\n",
        "    rate: float\n",
        "    time: float\n",
        "    interest: float\n",
        "    total_amount: float\n",
        "\n",
        "# Step 2: Function to calculate simple interest\n",
        "def calculate_simple_interest(state: SIState) -> SIState:\n",
        "    P = state['principal']\n",
        "    R = state['rate']\n",
        "    T = state['time']\n",
        "\n",
        "    interest = (P * R * T) / 100\n",
        "    state['interest'] = round(interest, 2)\n",
        "    return state\n",
        "\n",
        "# Step 3: Function to calculate total amount (principal + interest)\n",
        "def calculate_total_amount(state: SIState) -> SIState:\n",
        "    state['total_amount'] = round(state['principal'] + state['interest'], 2)\n",
        "    return state\n",
        "\n",
        "# Step 4: Build the graph\n",
        "graph = StateGraph(SIState)\n",
        "\n",
        "graph.add_node('calculate_simple_interest', calculate_simple_interest)\n",
        "graph.add_node('calculate_total_amount', calculate_total_amount)\n",
        "\n",
        "graph.add_edge(START, 'calculate_simple_interest')\n",
        "graph.add_edge('calculate_simple_interest', 'calculate_total_amount')\n",
        "graph.add_edge('calculate_total_amount', END)\n",
        "\n",
        "# Step 5: Compile the workflow\n",
        "workflow = graph.compile()"
      ],
      "metadata": {
        "id": "c7UCspPB5jnV"
      },
      "execution_count": null,
      "outputs": []
    },
    {
      "cell_type": "code",
      "source": [
        "# Step 6: Invoke with sample data\n",
        "initial_state = {\n",
        "    'principal': 10000,\n",
        "    'rate': 5,\n",
        "    'time': 2\n",
        "}"
      ],
      "metadata": {
        "id": "376Icgw6AZoM"
      },
      "execution_count": null,
      "outputs": []
    },
    {
      "cell_type": "code",
      "source": [
        "final_state = workflow.invoke(initial_state)\n",
        "print(final_state)"
      ],
      "metadata": {
        "colab": {
          "base_uri": "https://localhost:8080/"
        },
        "id": "KNyXv3C5AZrM",
        "outputId": "bc2db783-8ad1-4817-f73b-cc7be1d63bc2"
      },
      "execution_count": null,
      "outputs": [
        {
          "output_type": "stream",
          "name": "stdout",
          "text": [
            "{'principal': 10000, 'rate': 5, 'time': 2, 'interest': 1000.0, 'total_amount': 11000.0}\n"
          ]
        }
      ]
    },
    {
      "cell_type": "code",
      "source": [
        "# Step 7: Visualize the graph\n",
        "from IPython.display import Image\n",
        "Image(workflow.get_graph().draw_mermaid_png())"
      ],
      "metadata": {
        "colab": {
          "base_uri": "https://localhost:8080/",
          "height": 350
        },
        "id": "kGCQ4HmmAdd0",
        "outputId": "65644fc4-7941-440d-a95b-aac6da76fa28"
      },
      "execution_count": null,
      "outputs": [
        {
          "output_type": "execute_result",
          "data": {
            "image/png": "[encoded data removed]",
            "text/plain": [
              "<IPython.core.display.Image object>"
            ]
          },
          "metadata": {},
          "execution_count": 17
        }
      ]
    },
    {
      "cell_type": "code",
      "source": [],
      "metadata": {
        "id": "22DqBoDaAgqS"
      },
      "execution_count": null,
      "outputs": []
    }
  ]
}