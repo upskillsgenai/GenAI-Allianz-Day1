{
  "cells": [
    {
      "cell_type": "code",
      "execution_count": 1,
      "metadata": {
        "id": "UrseaHQfRH_4"
      },
      "outputs": [],
      "source": [
        "from langgraph.graph import StateGraph, START, END\n",
        "from langchain_openai import ChatOpenAI\n",
        "from typing import TypedDict\n",
        "from dotenv import load_dotenv"
      ]
    },
    {
      "cell_type": "code",
      "execution_count": null,
      "metadata": {
        "id": "v7jd2rVCQ-GY"
      },
      "outputs": [],
      "source": [
        "import os\n",
        "os.environ[\"OPENAI_API_KEY\"] = (\n",
        "    \"sk-proj-xxxxxxxxxxxxx\"\n",
        ")"
      ]
    },
    {
      "cell_type": "code",
      "execution_count": 10,
      "metadata": {
        "id": "mRST5SzcRK1Z"
      },
      "outputs": [],
      "source": [
        "model = ChatOpenAI()"
      ]
    },
    {
      "cell_type": "code",
      "execution_count": 11,
      "metadata": {
        "id": "k1p-Fsd2RK4Y"
      },
      "outputs": [],
      "source": [
        "class BlogState(TypedDict):\n",
        "\n",
        "    title: str\n",
        "    outline: str\n",
        "    content: str"
      ]
    },
    {
      "cell_type": "code",
      "execution_count": 12,
      "metadata": {
        "id": "UzhDuRZMRK7Z"
      },
      "outputs": [],
      "source": [
        "def create_outline(state: BlogState) -> BlogState:\n",
        "\n",
        "    # fetch title\n",
        "    title = state['title']\n",
        "\n",
        "    # call llm gen outline\n",
        "    prompt = f'Generate a detailed outline for a blog on the topic - {title}'\n",
        "    outline = model.invoke(prompt).content\n",
        "\n",
        "    # update state\n",
        "    state['outline'] = outline\n",
        "\n",
        "    return state"
      ]
    },
    {
      "cell_type": "code",
      "execution_count": 13,
      "metadata": {
        "id": "uYbAOv_bRQ7t"
      },
      "outputs": [],
      "source": [
        "def create_blog(state: BlogState) -> BlogState:\n",
        "\n",
        "    title = state['title']\n",
        "    outline = state['outline']\n",
        "\n",
        "    prompt = f'Write a detailed blog on the title - {title} using the follwing outline \\n {outline}'\n",
        "\n",
        "    content = model.invoke(prompt).content\n",
        "\n",
        "    state['content'] = content\n",
        "\n",
        "    return state"
      ]
    },
    {
      "cell_type": "code",
      "execution_count": 14,
      "metadata": {
        "id": "OESKYPHARSxL"
      },
      "outputs": [],
      "source": [
        "graph = StateGraph(BlogState)\n",
        "\n",
        "# nodes\n",
        "graph.add_node('create_outline', create_outline)\n",
        "graph.add_node('create_blog', create_blog)\n",
        "\n",
        "# edges\n",
        "graph.add_edge(START, 'create_outline')\n",
        "graph.add_edge('create_outline', 'create_blog')\n",
        "graph.add_edge('create_blog', END)\n",
        "\n",
        "workflow = graph.compile()"
      ]
    },
    {
      "cell_type": "code",
      "execution_count": 15,
      "metadata": {
        "colab": {
          "base_uri": "https://localhost:8080/"
        },
        "id": "JNrqw1pCRUtP",
        "outputId": "060bc22f-c559-4c0a-fbdb-a0b9a70749ad"
      },
      "outputs": [
        {
          "name": "stdout",
          "output_type": "stream",
          "text": [
            "{'title': 'Rise of AI in India', 'outline': \"I. Introduction\\n    A. Definition of AI\\n    B. Brief overview of AI technology\\n    C. Importance of AI in today's world\\n\\nII. History of AI in India\\n    A. Early developments in AI in India\\n    B. Major milestones in the evolution of AI technology in India\\n    C. Adoption of AI in various industries in India\\n\\nIII. Current state of AI in India\\n    A. Growth of AI start-ups in India\\n    B. Government initiatives to promote AI in India\\n    C. Major companies investing in AI technology in India\\n\\nIV. Impact of AI on Indian economy\\n    A. Job creation through AI technology\\n    B. Increased productivity and efficiency in various industries\\n    C. Potential challenges and concerns related to AI adoption in India\\n\\nV. Future of AI in India\\n    A. Trends and predictions for the future of AI technology in India\\n    B. Potential areas of growth and innovation in AI in India\\n    C. Role of education and research in fostering AI development in India\\n\\nVI. Conclusion\\n    A. Recap of key points discussed in the blog\\n    B. Importance of embracing AI technology for the future growth of India\\n    C. Call to action for individuals and organizations to leverage AI for positive impact.\", 'content': \"\\nI. Introduction\\n\\nA. Definition of AI\\nArtificial Intelligence (AI) refers to the simulation of human intelligence processes by machines, including learning, reasoning, and self-correction. AI technology enables machines to perform tasks that typically require human intelligence, such as visual perception, speech recognition, decision-making, and language translation.\\n\\nB. Brief overview of AI technology\\nAI technology encompasses a wide range of applications, including machine learning, natural language processing, robotics, computer vision, and expert systems. These technologies are being increasingly integrated into various industries to automate processes, improve efficiency, and drive innovation.\\n\\nC. Importance of AI in today's world\\nAI technology has become a critical component of the modern world, impacting various aspects of society, including healthcare, finance, transportation, communication, and entertainment. The ability of AI to analyze vast amounts of data, make predictions, and automate tasks has the potential to revolutionize industries and improve the quality of life for individuals.\\n\\nII. History of AI in India\\n\\nA. Early developments in AI in India\\nIndia has a rich history of AI research and development dating back to the 1960s. Institutions such as the Indian Institute of Science (IISc) and the Indian Institutes of Technology (IITs) have been at the forefront of AI research in the country.\\n\\nB. Major milestones in the evolution of AI technology in India\\nOver the years, India has witnessed significant advancements in AI technology, with the development of AI-driven products and solutions in areas such as healthcare, agriculture, education, and finance. Companies and research institutions in India have contributed to the global AI ecosystem through their innovative work.\\n\\nC. Adoption of AI in various industries in India\\nVarious industries in India, including healthcare, banking, retail, manufacturing, and agriculture, are increasingly adopting AI technology to streamline operations, improve decision-making, and enhance customer experiences. The potential of AI to drive growth and competitiveness has led to a surge in AI adoption across sectors.\\n\\nIII. Current state of AI in India\\n\\nA. Growth of AI start-ups in India\\nIndia has witnessed a rapid growth in AI start-ups, with companies focusing on areas such as predictive analytics, chatbots, cybersecurity, and robotic process automation. These start-ups are leveraging AI technologies to develop innovative solutions that cater to the needs of Indian and global markets.\\n\\nB. Government initiatives to promote AI in India\\nThe Indian government has recognized the importance of AI technology for the country's development and has launched initiatives to promote the adoption of AI in various sectors. Programs such as the National AI Strategy aim to accelerate the growth of AI technology in India and position the country as a global AI hub.\\n\\nC. Major companies investing in AI technology in India\\nLeading technology companies, multinational corporations, and venture capital firms are investing in AI technology in India to capitalize on the country's innovation ecosystem and talent pool. These investments are fueling the development of AI-driven products and services that address the unique needs of the Indian market.\\n\\nIV. Impact of AI on Indian economy\\n\\nA. Job creation through AI technology\\nAI technology has the potential to create new job opportunities in India by driving demand for skilled professionals in areas such as data science, machine learning, and AI research. As industries embrace AI solutions, there is a growing need for talent with expertise in AI technology.\\n\\nB. Increased productivity and efficiency in various industries\\nAI technology is helping Indian industries improve productivity, efficiency, and decision-making by automating processes, optimizing resources, and analyzing data. From predictive maintenance in manufacturing to personalized recommendations in e-commerce, AI is transforming the way businesses operate in India.\\n\\nC. Potential challenges and concerns related to AI adoption in India\\nWhile AI technology offers numerous benefits to Indian society, there are also challenges and concerns related to its adoption. These include issues such as data privacy, ethics, bias in algorithms, job displacement, and regulatory compliance. It is crucial for stakeholders to address these challenges proactively to ensure responsible AI deployment.\\n\\nV. Future of AI in India\\n\\nA. Trends and predictions for the future of AI technology in India\\nThe future of AI technology in India is promising, with trends such as increased use of AI in healthcare, autonomous vehicles, smart cities, and agriculture. As AI technology matures and becomes more accessible, it is expected to drive innovation and economic growth in India.\\n\\nB. Potential areas of growth and innovation in AI in India\\nAI technology holds immense potential for growth and innovation in India, with opportunities in areas such as personalized medicine, precision agriculture, financial services, smart manufacturing, and personalized education. These areas present exciting prospects for AI-powered solutions that address the unique challenges faced by India.\\n\\nC. Role of education and research in fostering AI development in India\\nEducation and research play a crucial role in fostering AI development in India by nurturing a talented workforce, fostering collaboration between academia and industry, and driving innovation in AI technology. Institutions such as IISc, IITs, and AI research labs are at the forefront of AI education and research in India.\\n\\nVI. Conclusion\\n\\nA. Recap of key points discussed in the blog\\nThe rise of AI in India has been fueled by advancements in technology, government support, and the efforts of companies and start-ups. AI technology is reshaping industries, creating new opportunities, and driving economic growth in India.\\n\\nB. Importance of embracing AI technology for the future growth of India\\nIndia's embrace of AI technology is crucial for its future growth and competitiveness in the global economy. By harnessing the power of AI, India can drive innovation, create jobs, improve productivity, and enhance the quality of life for its citizens.\\n\\nC. Call to action for individuals and organizations to leverage AI for positive impact\\nAs AI technology continues to advance, individuals and organizations in India are encouraged to leverage AI for positive impact by embracing AI-driven solutions, investing in AI education and research, and promoting responsible AI adoption. By working together, India can harness the transformative potential of AI for the benefit of all.\"}\n"
          ]
        }
      ],
      "source": [
        "intial_state = {'title': 'Rise of AI in India'}\n",
        "\n",
        "final_state = workflow.invoke(intial_state)\n",
        "\n",
        "print(final_state)"
      ]
    },
    {
      "cell_type": "code",
      "execution_count": 16,
      "metadata": {
        "colab": {
          "base_uri": "https://localhost:8080/"
        },
        "id": "9zgm4yYpRWX9",
        "outputId": "4f667546-2f75-4860-d739-7223aa0c9dd8"
      },
      "outputs": [
        {
          "name": "stdout",
          "output_type": "stream",
          "text": [
            "I. Introduction\n",
            "    A. Definition of AI\n",
            "    B. Brief overview of AI technology\n",
            "    C. Importance of AI in today's world\n",
            "\n",
            "II. History of AI in India\n",
            "    A. Early developments in AI in India\n",
            "    B. Major milestones in the evolution of AI technology in India\n",
            "    C. Adoption of AI in various industries in India\n",
            "\n",
            "III. Current state of AI in India\n",
            "    A. Growth of AI start-ups in India\n",
            "    B. Government initiatives to promote AI in India\n",
            "    C. Major companies investing in AI technology in India\n",
            "\n",
            "IV. Impact of AI on Indian economy\n",
            "    A. Job creation through AI technology\n",
            "    B. Increased productivity and efficiency in various industries\n",
            "    C. Potential challenges and concerns related to AI adoption in India\n",
            "\n",
            "V. Future of AI in India\n",
            "    A. Trends and predictions for the future of AI technology in India\n",
            "    B. Potential areas of growth and innovation in AI in India\n",
            "    C. Role of education and research in fostering AI development in India\n",
            "\n",
            "VI. Conclusion\n",
            "    A. Recap of key points discussed in the blog\n",
            "    B. Importance of embracing AI technology for the future growth of India\n",
            "    C. Call to action for individuals and organizations to leverage AI for positive impact.\n"
          ]
        }
      ],
      "source": [
        "print(final_state['outline'])"
      ]
    },
    {
      "cell_type": "code",
      "execution_count": 17,
      "metadata": {
        "colab": {
          "base_uri": "https://localhost:8080/"
        },
        "id": "fg0kEbp9Rg5i",
        "outputId": "0838b65b-4051-4565-9102-78c73857aff7"
      },
      "outputs": [
        {
          "name": "stdout",
          "output_type": "stream",
          "text": [
            "\n",
            "I. Introduction\n",
            "\n",
            "A. Definition of AI\n",
            "Artificial Intelligence (AI) refers to the simulation of human intelligence processes by machines, including learning, reasoning, and self-correction. AI technology enables machines to perform tasks that typically require human intelligence, such as visual perception, speech recognition, decision-making, and language translation.\n",
            "\n",
            "B. Brief overview of AI technology\n",
            "AI technology encompasses a wide range of applications, including machine learning, natural language processing, robotics, computer vision, and expert systems. These technologies are being increasingly integrated into various industries to automate processes, improve efficiency, and drive innovation.\n",
            "\n",
            "C. Importance of AI in today's world\n",
            "AI technology has become a critical component of the modern world, impacting various aspects of society, including healthcare, finance, transportation, communication, and entertainment. The ability of AI to analyze vast amounts of data, make predictions, and automate tasks has the potential to revolutionize industries and improve the quality of life for individuals.\n",
            "\n",
            "II. History of AI in India\n",
            "\n",
            "A. Early developments in AI in India\n",
            "India has a rich history of AI research and development dating back to the 1960s. Institutions such as the Indian Institute of Science (IISc) and the Indian Institutes of Technology (IITs) have been at the forefront of AI research in the country.\n",
            "\n",
            "B. Major milestones in the evolution of AI technology in India\n",
            "Over the years, India has witnessed significant advancements in AI technology, with the development of AI-driven products and solutions in areas such as healthcare, agriculture, education, and finance. Companies and research institutions in India have contributed to the global AI ecosystem through their innovative work.\n",
            "\n",
            "C. Adoption of AI in various industries in India\n",
            "Various industries in India, including healthcare, banking, retail, manufacturing, and agriculture, are increasingly adopting AI technology to streamline operations, improve decision-making, and enhance customer experiences. The potential of AI to drive growth and competitiveness has led to a surge in AI adoption across sectors.\n",
            "\n",
            "III. Current state of AI in India\n",
            "\n",
            "A. Growth of AI start-ups in India\n",
            "India has witnessed a rapid growth in AI start-ups, with companies focusing on areas such as predictive analytics, chatbots, cybersecurity, and robotic process automation. These start-ups are leveraging AI technologies to develop innovative solutions that cater to the needs of Indian and global markets.\n",
            "\n",
            "B. Government initiatives to promote AI in India\n",
            "The Indian government has recognized the importance of AI technology for the country's development and has launched initiatives to promote the adoption of AI in various sectors. Programs such as the National AI Strategy aim to accelerate the growth of AI technology in India and position the country as a global AI hub.\n",
            "\n",
            "C. Major companies investing in AI technology in India\n",
            "Leading technology companies, multinational corporations, and venture capital firms are investing in AI technology in India to capitalize on the country's innovation ecosystem and talent pool. These investments are fueling the development of AI-driven products and services that address the unique needs of the Indian market.\n",
            "\n",
            "IV. Impact of AI on Indian economy\n",
            "\n",
            "A. Job creation through AI technology\n",
            "AI technology has the potential to create new job opportunities in India by driving demand for skilled professionals in areas such as data science, machine learning, and AI research. As industries embrace AI solutions, there is a growing need for talent with expertise in AI technology.\n",
            "\n",
            "B. Increased productivity and efficiency in various industries\n",
            "AI technology is helping Indian industries improve productivity, efficiency, and decision-making by automating processes, optimizing resources, and analyzing data. From predictive maintenance in manufacturing to personalized recommendations in e-commerce, AI is transforming the way businesses operate in India.\n",
            "\n",
            "C. Potential challenges and concerns related to AI adoption in India\n",
            "While AI technology offers numerous benefits to Indian society, there are also challenges and concerns related to its adoption. These include issues such as data privacy, ethics, bias in algorithms, job displacement, and regulatory compliance. It is crucial for stakeholders to address these challenges proactively to ensure responsible AI deployment.\n",
            "\n",
            "V. Future of AI in India\n",
            "\n",
            "A. Trends and predictions for the future of AI technology in India\n",
            "The future of AI technology in India is promising, with trends such as increased use of AI in healthcare, autonomous vehicles, smart cities, and agriculture. As AI technology matures and becomes more accessible, it is expected to drive innovation and economic growth in India.\n",
            "\n",
            "B. Potential areas of growth and innovation in AI in India\n",
            "AI technology holds immense potential for growth and innovation in India, with opportunities in areas such as personalized medicine, precision agriculture, financial services, smart manufacturing, and personalized education. These areas present exciting prospects for AI-powered solutions that address the unique challenges faced by India.\n",
            "\n",
            "C. Role of education and research in fostering AI development in India\n",
            "Education and research play a crucial role in fostering AI development in India by nurturing a talented workforce, fostering collaboration between academia and industry, and driving innovation in AI technology. Institutions such as IISc, IITs, and AI research labs are at the forefront of AI education and research in India.\n",
            "\n",
            "VI. Conclusion\n",
            "\n",
            "A. Recap of key points discussed in the blog\n",
            "The rise of AI in India has been fueled by advancements in technology, government support, and the efforts of companies and start-ups. AI technology is reshaping industries, creating new opportunities, and driving economic growth in India.\n",
            "\n",
            "B. Importance of embracing AI technology for the future growth of India\n",
            "India's embrace of AI technology is crucial for its future growth and competitiveness in the global economy. By harnessing the power of AI, India can drive innovation, create jobs, improve productivity, and enhance the quality of life for its citizens.\n",
            "\n",
            "C. Call to action for individuals and organizations to leverage AI for positive impact\n",
            "As AI technology continues to advance, individuals and organizations in India are encouraged to leverage AI for positive impact by embracing AI-driven solutions, investing in AI education and research, and promoting responsible AI adoption. By working together, India can harness the transformative potential of AI for the benefit of all.\n"
          ]
        }
      ],
      "source": [
        "print(final_state['content'])"
      ]
    },
    {
      "cell_type": "code",
      "execution_count": 18,
      "metadata": {
        "colab": {
          "base_uri": "https://localhost:8080/",
          "height": 350
        },
        "id": "8-gNBuX6Rjbk",
        "outputId": "0de95867-9701-4a53-c7e1-72c9617abfa7"
      },
      "outputs": [
        {
          "data": {
            "image/png": "[encoded data removed]",
            "text/plain": [
              "<IPython.core.display.Image object>"
            ]
          },
          "execution_count": 18,
          "metadata": {},
          "output_type": "execute_result"
        }
      ],
      "source": [
        "from IPython.display import Image\n",
        "Image(workflow.get_graph().draw_mermaid_png())"
      ]
    },
    {
      "cell_type": "code",
      "execution_count": null,
      "metadata": {
        "id": "w-rezANqRmVW"
      },
      "outputs": [],
      "source": []
    }
  ],
  "metadata": {
    "colab": {
      "provenance": []
    },
    "kernelspec": {
      "display_name": "labenv1 (3.10.0)",
      "language": "python",
      "name": "python3"
    },
    "language_info": {
      "codemirror_mode": {
        "name": "ipython",
        "version": 3
      },
      "file_extension": ".py",
      "mimetype": "text/x-python",
      "name": "python",
      "nbconvert_exporter": "python",
      "pygments_lexer": "ipython3",
      "version": "3.10.0"
    }
  },
  "nbformat": 4,
  "nbformat_minor": 0
}
