{
  "cells": [
    {
      "cell_type": "markdown",
      "metadata": {
        "id": "go5KIPXJU9vj"
      },
      "source": [
        "#  LangGraph Parallel Workflow Example: Banking Domain\n",
        "\n",
        "This hands-on example on **Parallel workflow** using **LangGraph** in the **Banking domain**.\n",
        "\n",
        "---\n",
        "\n",
        "##  Objective\n",
        "\n",
        "Given a customer banking query, the system will process it in **parallel** to:\n",
        "\n",
        "- 📄 **Classify the query type**  \n",
        "  *(e.g., Loan, Account, Credit Card, Fraud, General Inquiry)*\n",
        "\n",
        "- 💬 **Generate a professional response draft**\n",
        "\n",
        "- 📊 **Assess the urgency level**  \n",
        "  *(e.g., High, Medium, Low)*\n",
        "\n",
        "Once all tasks are completed, their results are **combined into a structured report**.\n",
        "\n",
        "---\n",
        "\n",
        "##  Key Concepts Covered\n",
        "\n",
        "- Parallel prompt execution (fan-out)\n",
        "- Result aggregation (fan-in)\n",
        "- State management with `TypedDict`\n",
        "- Multi-node LangGraph workflows using `StateGraph`\n",
        "- Use of `ChatOpenAI` for LLM-powered classification, summarization, and generation\n",
        "\n",
        "---\n"
      ]
    },
    {
      "cell_type": "markdown",
      "metadata": {
        "id": "BVKK0cNYVU2j"
      },
      "source": [
        "### LangGraph Workflow Diagram – Banking Query (Parallel Workflow)\n",
        "\n",
        "```mermaid\n",
        "graph TD\n",
        "    START((Start)) --> Classify[Classify Query Type]\n",
        "    START --> Urgency[Assess Urgency]\n",
        "    START --> Respond[Generate Response]\n",
        "    Classify --> Report[Compile Report]\n",
        "    Urgency --> Report\n",
        "    Respond --> Report\n",
        "    Report --> END((End))\n"
      ]
    },
    {
      "cell_type": "code",
      "execution_count": null,
      "metadata": {
        "id": "Lw_EBmJCUuFX"
      },
      "outputs": [],
      "source": [
        "#!pip install langchain langchain_openai langgraph typing_extensions -q"
      ]
    },
    {
      "cell_type": "code",
      "execution_count": 1,
      "metadata": {
        "id": "I677OGIFVdgf"
      },
      "outputs": [],
      "source": [
        "from typing import TypedDict, List\n",
        "from typing_extensions import Annotated\n",
        "from langgraph.graph import StateGraph, START, END\n",
        "from langchain_openai import ChatOpenAI\n",
        "import os\n",
        "import operator"
      ]
    },
    {
      "cell_type": "code",
      "execution_count": null,
      "metadata": {
        "id": "pdYMs4n3Vg3B"
      },
      "outputs": [],
      "source": [
        "import os\n",
        "\n",
        "os.environ[\"OPENAI_API_KEY\"] = \"sk-proj-xxxxxxxxxxxxx\""
      ]
    },
    {
      "cell_type": "code",
      "execution_count": 3,
      "metadata": {
        "id": "G0z-QJDRVg6C"
      },
      "outputs": [],
      "source": [
        "# Set up model\n",
        "model = ChatOpenAI(temperature=0, model=\"gpt-3.5-turbo\")"
      ]
    },
    {
      "cell_type": "code",
      "execution_count": null,
      "metadata": {
        "id": "SQmTrN96Vg9R"
      },
      "outputs": [],
      "source": [
        "# ---------- State Definition ----------\n",
        "class State(TypedDict):\n",
        "    query: str\n",
        "    #Annotated with operator.add means this field can be updated by multiple nodes\n",
        "    category: Annotated[str, operator.add]\n",
        "    urgency: Annotated[str, operator.add]\n",
        "    response: Annotated[str, operator.add]\n",
        "    report: str"
      ]
    },
    {
      "cell_type": "code",
      "execution_count": 4,
      "metadata": {
        "id": "YxpIlHDVbMJX"
      },
      "outputs": [],
      "source": [
        "# ---------- State Definition ----------\n",
        "class State(TypedDict):\n",
        "    query: str\n",
        "    category: str\n",
        "    urgency: str\n",
        "    response: str\n",
        "    report: str"
      ]
    },
    {
      "cell_type": "markdown",
      "metadata": {
        "id": "cZquqgMVXRpP"
      },
      "source": [
        "Note : use Annotated  to tell LangGraph that This field (query) is input-only, don’t treat it as being updated in the workflow."
      ]
    },
    {
      "cell_type": "code",
      "execution_count": 5,
      "metadata": {
        "id": "MHOpgq8wVhAy"
      },
      "outputs": [],
      "source": [
        "# ---------- Node Functions ----------\n",
        "def classify_query(state: State):\n",
        "    prompt = f\"Classify: {state['query']}. Categories: Loan, Account, Credit Card, Fraud, General Inquiry. Return only category.\"\n",
        "    return {\"category\": model.invoke(prompt).content.strip()} # partial update state variable\n"
      ]
    },
    {
      "cell_type": "code",
      "execution_count": 6,
      "metadata": {
        "id": "zxfKYqj5VhGZ"
      },
      "outputs": [],
      "source": [
        "def assess_urgency(state: State):\n",
        "    prompt = f\"Assess urgency: {state['query']}. Options: High, Medium, Low. Return only urgency.\"\n",
        "    return {\"urgency\": model.invoke(prompt).content.strip()} # partial update state variable"
      ]
    },
    {
      "cell_type": "code",
      "execution_count": 7,
      "metadata": {
        "id": "gij5yYHZVhJr"
      },
      "outputs": [],
      "source": [
        "def generate_response(state: State):\n",
        "    prompt = f\"Write response to: {state['query']}. Keep it professional and concise.\"\n",
        "    return {\"response\": model.invoke(prompt).content.strip()} # partial update state variable"
      ]
    },
    {
      "cell_type": "code",
      "execution_count": 8,
      "metadata": {
        "id": "-huQtoLaVhND"
      },
      "outputs": [],
      "source": [
        "def compile_report(state: State):\n",
        "    report = f\"\"\"\n",
        "    === Customer Query Report ===\n",
        "    Query: {state['query']}\n",
        "    Category: {state.get('category', 'N/A')}\n",
        "    Urgency: {state.get('urgency', 'N/A')}\n",
        "    Response: {state.get('response', 'N/A')}\n",
        "    \"\"\"\n",
        "    return {\"report\": report} # partial update state variable"
      ]
    },
    {
      "cell_type": "code",
      "execution_count": 9,
      "metadata": {
        "colab": {
          "base_uri": "https://localhost:8080/"
        },
        "id": "XXUkaj3VVhQg",
        "outputId": "2efc45fd-f244-4b39-8ef1-9d8e826659a2"
      },
      "outputs": [
        {
          "data": {
            "text/plain": [
              "<langgraph.graph.state.StateGraph at 0x25c2345fd90>"
            ]
          },
          "execution_count": 9,
          "metadata": {},
          "output_type": "execute_result"
        }
      ],
      "source": [
        "# Build graph\n",
        "builder = StateGraph(State)\n",
        "\n",
        "builder.add_node(\"classify\", classify_query)\n",
        "builder.add_node(\"urgency\", assess_urgency)\n",
        "builder.add_node(\"response\", generate_response)\n",
        "builder.add_node(\"report\", compile_report)\n",
        "\n",
        "builder.add_edge(START, \"classify\")\n",
        "builder.add_edge(START, \"urgency\")\n",
        "builder.add_edge(START, \"response\")\n",
        "\n",
        "builder.add_edge(\"classify\", \"report\")\n",
        "builder.add_edge(\"urgency\", \"report\")\n",
        "builder.add_edge(\"response\", \"report\")\n",
        "\n",
        "builder.add_edge(\"report\", END)"
      ]
    },
    {
      "cell_type": "code",
      "execution_count": 10,
      "metadata": {
        "id": "oA70rYi8Wj8w"
      },
      "outputs": [],
      "source": [
        "workflow = builder.compile()"
      ]
    },
    {
      "cell_type": "code",
      "execution_count": 11,
      "metadata": {
        "id": "CUnQ5pYNaOEY"
      },
      "outputs": [],
      "source": [
        "# Execute\n",
        "result = workflow.invoke({\n",
        "    \"query\": \"I want to apply for a home loan. What documents do I need?\"\n",
        "})"
      ]
    },
    {
      "cell_type": "markdown",
      "metadata": {
        "id": "RN08QI2pcZap"
      },
      "source": [
        "Sample Query:\n",
        "\n",
        "- I want to apply for a home loan. What documents do I need?\n",
        "- There are two unauthorized transactions on my credit card. Please investigate!\n",
        "- Can you help me activate net banking for my savings account?\n"
      ]
    },
    {
      "cell_type": "code",
      "execution_count": 12,
      "metadata": {
        "colab": {
          "base_uri": "https://localhost:8080/"
        },
        "id": "VLeBYFfCWtrK",
        "outputId": "5b0cb95d-8a19-4916-8b11-de5470a6de77"
      },
      "outputs": [
        {
          "name": "stdout",
          "output_type": "stream",
          "text": [
            "\n",
            "    === Customer Query Report ===\n",
            "    Query: I want to apply for a home loan. What documents do I need?\n",
            "    Category: Loan\n",
            "    Urgency: High\n",
            "    Response: Thank you for your interest in applying for a home loan. In order to proceed with your application, you will need to provide the following documents:\n",
            "\n",
            "1. Proof of identification (e.g. driver's license, passport)\n",
            "2. Proof of income (e.g. pay stubs, tax returns)\n",
            "3. Bank statements\n",
            "4. Employment verification\n",
            "5. Credit report\n",
            "\n",
            "Please gather these documents and reach out to our loan officer to begin the application process. Thank you.\n",
            "    \n"
          ]
        }
      ],
      "source": [
        "print(result[\"report\"])\n"
      ]
    },
    {
      "cell_type": "code",
      "execution_count": 13,
      "metadata": {
        "colab": {
          "base_uri": "https://localhost:8080/",
          "height": 350
        },
        "id": "G-wBFOqSWtnR",
        "outputId": "ef993094-5c08-4bfb-aaca-e0cb9ed29331"
      },
      "outputs": [
        {
          "data": {
            "image/png": "[encoded data removed]",
            "text/plain": [
              "<IPython.core.display.Image object>"
            ]
          },
          "execution_count": 13,
          "metadata": {},
          "output_type": "execute_result"
        }
      ],
      "source": [
        "from IPython.display import Image\n",
        "Image(workflow.get_graph().draw_mermaid_png())"
      ]
    },
    {
      "cell_type": "code",
      "execution_count": null,
      "metadata": {
        "id": "6N0Ec3G1Wtkc"
      },
      "outputs": [],
      "source": []
    }
  ],
  "metadata": {
    "colab": {
      "provenance": []
    },
    "kernelspec": {
      "display_name": "labenv1 (3.10.0)",
      "language": "python",
      "name": "python3"
    },
    "language_info": {
      "codemirror_mode": {
        "name": "ipython",
        "version": 3
      },
      "file_extension": ".py",
      "mimetype": "text/x-python",
      "name": "python",
      "nbconvert_exporter": "python",
      "pygments_lexer": "ipython3",
      "version": "3.10.0"
    }
  },
  "nbformat": 4,
  "nbformat_minor": 0
}
