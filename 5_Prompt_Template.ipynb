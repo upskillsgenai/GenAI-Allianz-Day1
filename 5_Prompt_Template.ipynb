{
  "cells": [
    {
      "cell_type": "markdown",
      "metadata": {
        "id": "8q-qw-7kfCjr"
      },
      "source": [
        "1️⃣ String PromptTemplate (Simple Format)\n",
        "\n",
        "The PromptTemplate class helps you define reusable string prompts using Python-style variable substitution. It is best suited for single-turn, formatted prompts."
      ]
    },
    {
      "cell_type": "code",
      "execution_count": 1,
      "metadata": {
        "id": "0Sojk806e9eJ"
      },
      "outputs": [],
      "source": [
        "from langchain.prompts import PromptTemplate\n",
        "from langchain_openai import OpenAI\n",
        "import os"
      ]
    },
    {
      "cell_type": "code",
      "execution_count": null,
      "metadata": {
        "id": "AogNkoaOhU-g"
      },
      "outputs": [],
      "source": [
        "os.environ['OPENAI_API_KEY'] = 'sk-xxxxxxxxxxxxxx'"
      ]
    },
    {
      "cell_type": "code",
      "execution_count": null,
      "metadata": {
        "id": "1HCVAsHOfmxF"
      },
      "outputs": [],
      "source": [
        "# Initialize a basic LLM (text-based model, suitable for PromptTemplate)\n",
        "llm = OpenAI() "
      ]
    },
    {
      "cell_type": "code",
      "execution_count": 4,
      "metadata": {
        "id": "KRQPMtHafm0h"
      },
      "outputs": [],
      "source": [
        "# Define a simple template with variable placeholders\n",
        "template = \"Translate the following English sentence to {language}:\\n\\n\\\"{sentence}\\\"\"\n"
      ]
    },
    {
      "cell_type": "code",
      "execution_count": 5,
      "metadata": {
        "id": "3yjUUOK6fm3O"
      },
      "outputs": [],
      "source": [
        "# Create a PromptTemplate object\n",
        "prompt = PromptTemplate(\n",
        "    input_variables=[\"language\", \"sentence\"],\n",
        "    template=template,\n",
        ")\n"
      ]
    },
    {
      "cell_type": "code",
      "execution_count": 6,
      "metadata": {
        "id": "oDPEi3bGfm6M"
      },
      "outputs": [],
      "source": [
        "# Fill in the prompt with values\n",
        "final_prompt = prompt.format(\n",
        "    language=\"French\",\n",
        "    sentence=\"Where is the library?\"\n",
        ")"
      ]
    },
    {
      "cell_type": "code",
      "execution_count": 7,
      "metadata": {
        "colab": {
          "base_uri": "https://localhost:8080/"
        },
        "id": "wG1qtqo5fm9F",
        "outputId": "abab613b-d0d4-4cc8-c8de-719bb7577980"
      },
      "outputs": [
        {
          "name": "stdout",
          "output_type": "stream",
          "text": [
            "🔹 Final Prompt:\n",
            " Translate the following English sentence to French:\n",
            "\n",
            "\"Where is the library?\"\n"
          ]
        }
      ],
      "source": [
        "print(\"🔹 Final Prompt:\\n\", final_prompt)\n"
      ]
    },
    {
      "cell_type": "code",
      "execution_count": 8,
      "metadata": {
        "colab": {
          "base_uri": "https://localhost:8080/"
        },
        "id": "-eAR-LWwhnwQ",
        "outputId": "11f02718-f5c6-4152-a4a1-d9174041ccb8"
      },
      "outputs": [
        {
          "name": "stdout",
          "output_type": "stream",
          "text": [
            "\n",
            "LLM Output:\n",
            " \n",
            "\n",
            "\"Où est la bibliothèque?\"\n"
          ]
        }
      ],
      "source": [
        "# Call the LLM with the formatted prompt\n",
        "response = llm.invoke(final_prompt)\n",
        "print(\"\\nLLM Output:\\n\", response)"
      ]
    },
    {
      "cell_type": "markdown",
      "metadata": {
        "id": "B8mRewDLh9Qr"
      },
      "source": [
        "2️⃣ ChatPromptTemplate (Structured Conversations)\n",
        "\n",
        "The ChatPromptTemplate class structures your messages with roles like system, user, assistant, etc. It is ideal for use with chat models like gpt-3.5-turbo or gpt-4."
      ]
    },
    {
      "cell_type": "code",
      "execution_count": 9,
      "metadata": {
        "id": "NGDLnNXVhtBZ"
      },
      "outputs": [],
      "source": [
        "from langchain.prompts.chat import ChatPromptTemplate\n",
        "from langchain_openai import ChatOpenAI"
      ]
    },
    {
      "cell_type": "code",
      "execution_count": 10,
      "metadata": {
        "id": "gMhFtI3riJ7h"
      },
      "outputs": [],
      "source": [
        "# Initialize chat-based LLM\n",
        "chat_llm = ChatOpenAI(model_name=\"gpt-4o-mini\")"
      ]
    },
    {
      "cell_type": "code",
      "execution_count": 11,
      "metadata": {
        "id": "Wz-4vnOaiNjt"
      },
      "outputs": [],
      "source": [
        "# Define structured chat prompt with roles\n",
        "chat_prompt = ChatPromptTemplate.from_messages([\n",
        "    (\"system\", \"You are a helpful travel guide.\"),\n",
        "    (\"user\", \"Suggest 3 places to visit in {country}.\")\n",
        "])"
      ]
    },
    {
      "cell_type": "code",
      "execution_count": 12,
      "metadata": {
        "id": "bBoX4WZciQDF"
      },
      "outputs": [],
      "source": [
        "# Fill in the variable\n",
        "formatted_messages = chat_prompt.format_messages(country=\"India\")\n"
      ]
    },
    {
      "cell_type": "code",
      "execution_count": 13,
      "metadata": {
        "colab": {
          "base_uri": "https://localhost:8080/"
        },
        "id": "YEeyNH3eiTuk",
        "outputId": "aa980bbe-39d3-4049-e5d7-b9321027f50b"
      },
      "outputs": [
        {
          "name": "stdout",
          "output_type": "stream",
          "text": [
            "Formatted Messages:\n",
            " [SystemMessage(content='You are a helpful travel guide.', additional_kwargs={}, response_metadata={}), HumanMessage(content='Suggest 3 places to visit in India.', additional_kwargs={}, response_metadata={})]\n"
          ]
        }
      ],
      "source": [
        "\n",
        "# Display structured messages\n",
        "print(\"Formatted Messages:\\n\", formatted_messages)"
      ]
    },
    {
      "cell_type": "code",
      "execution_count": 14,
      "metadata": {
        "colab": {
          "base_uri": "https://localhost:8080/"
        },
        "id": "NqNe81Y4iXut",
        "outputId": "50e80ebe-58de-4092-933f-5c8c39560d79"
      },
      "outputs": [
        {
          "name": "stdout",
          "output_type": "stream",
          "text": [
            "\n",
            "LLM Output:\n",
            " India is a diverse country with a rich cultural heritage and stunning landscapes. Here are three must-visit places:\n",
            "\n",
            "1. **Jaipur, Rajasthan**: Known as the \"Pink City,\" Jaipur is famous for its stunning palaces, forts, and vibrant bazaars. Don't miss the iconic Amber Fort, City Palace, and Hawa Mahal. You can also explore the local culture at the Johari Bazaar and enjoy traditional Rajasthani cuisine.\n",
            "\n",
            "2. **Kerala Backwaters**: Experience the serene beauty of Kerala's backwaters, where you can take a houseboat ride through the lush green landscapes and tranquil waters. Visit places like Alleppey and Kumarakom, and don't miss the chance to indulge in delicious Kerala cuisine. The area is also known for its Ayurvedic treatments and rich biodiversity.\n",
            "\n",
            "3. **Varanasi, Uttar Pradesh**: One of the oldest living cities in the world, Varanasi is a spiritual hub with a unique atmosphere. Witness the mesmerizing Ganga Aarti ceremony at the ghats, explore ancient temples, and take a boat ride on the Ganges River. Varanasi offers a profound experience of Indian spirituality and culture.\n",
            "\n",
            "Each of these destinations offers a different flavor of India, showcasing its rich history, culture, and natural beauty.\n"
          ]
        }
      ],
      "source": [
        "# Call the chat LLM\n",
        "response = chat_llm.invoke(formatted_messages)\n",
        "print(\"\\nLLM Output:\\n\", response.content)"
      ]
    },
    {
      "cell_type": "markdown",
      "metadata": {
        "id": "wiA1nIkYjrVG"
      },
      "source": [
        "Messages in Prompt Template"
      ]
    },
    {
      "cell_type": "code",
      "execution_count": 15,
      "metadata": {
        "id": "881weHZBju24"
      },
      "outputs": [],
      "source": [
        "from langchain_core.messages import SystemMessage, HumanMessage, AIMessage\n",
        "from langchain_openai import ChatOpenAI\n",
        "from dotenv import load_dotenv"
      ]
    },
    {
      "cell_type": "code",
      "execution_count": 16,
      "metadata": {
        "id": "D4HdlU8aj0hu"
      },
      "outputs": [],
      "source": [
        "model = ChatOpenAI(model_name=\"gpt-4o-mini\")\n",
        "\n",
        "messages=[\n",
        "    SystemMessage(content='You are a helpful assistant'),\n",
        "    HumanMessage(content='Tell me about LangChain')\n",
        "]"
      ]
    },
    {
      "cell_type": "code",
      "execution_count": 17,
      "metadata": {
        "colab": {
          "base_uri": "https://localhost:8080/"
        },
        "id": "kOHo2so5j0Xp",
        "outputId": "c8b1e40b-dcaf-4680-8539-058e82b91002"
      },
      "outputs": [
        {
          "name": "stdout",
          "output_type": "stream",
          "text": [
            "[SystemMessage(content='You are a helpful assistant', additional_kwargs={}, response_metadata={}), HumanMessage(content='Tell me about LangChain', additional_kwargs={}, response_metadata={}), AIMessage(content='LangChain is an open-source framework designed to assist developers in building applications powered by large language models (LLMs). It provides tools and structures that facilitate the integration of LLMs with various components, helping to streamline the development process for creating applications that can leverage the capabilities of language models. Here are some key features and components of LangChain:\\n\\n### Key Features\\n\\n1. **Modular Design**: LangChain is structured around a modular design that allows developers to use various components independently or together. This includes tools for prompt management, memory, workflows, and much more.\\n\\n2. **Integration with LLMs**: It simplifies the process of connecting with various LLMs, such as OpenAI\\'s GPT models, and allows developers to switch between different models with ease.\\n\\n3. **Prompt Engineering**: The framework offers tools for designing and managing prompts effectively. Developers can optimize prompts for better contextual responses from language models.\\n\\n4. **Memory Management**: LangChain provides a way to manage memory for stateful applications, enabling interactions that can maintain context across multiple queries.\\n\\n5. **Chains and Workflows**: Developers can create \"chains\" of operations where the output of one step can serve as the input for another, allowing for complex workflows involving data retrieval, API calls, and LLM responses.\\n\\n6. **Agents**: LangChain includes support for building agents that can make decisions and take actions based on user input and system responses, often using LLMs to process natural language queries.\\n\\n7. **Data Augmentation**: LangChain allows for the integration of external data sources and APIs, which can be used to enrich the responses generated by language models.\\n\\n### Applications\\n\\nLangChain can be used in various applications, including:\\n\\n- **Chatbots**: Creating conversational agents that can answer questions and perform tasks based on user input.\\n- **Content Generation**: Automating the creation of articles, summaries, or other text-based content.\\n- **Knowledge Management**: Building systems that can leverage vast amounts of data and provide insights or answers based on that data.\\n- **Interactive Applications**: Developing applications that require user interaction while maintaining context and conversation flow.\\n\\n### Ecosystem and Community\\n\\nLangChain has fostered a growing ecosystem with a community of developers contributing to its development and sharing use cases and examples. As an open-source project, it benefits from collaborative contributions that help enhance its capabilities.\\n\\nOverall, LangChain makes it easier for developers to harness the power of language models and incorporate them into their applications, allowing them to create interactive, intelligent systems that can understand and generate human-like text.', additional_kwargs={}, response_metadata={})]\n"
          ]
        }
      ],
      "source": [
        "result = model.invoke(messages)\n",
        "messages.append(AIMessage(content=result.content))\n",
        "print(messages)"
      ]
    },
    {
      "cell_type": "code",
      "execution_count": null,
      "metadata": {
        "id": "yCZ-6yNCj0UO"
      },
      "outputs": [],
      "source": []
    },
    {
      "cell_type": "markdown",
      "metadata": {
        "id": "U403IujUioYW"
      },
      "source": [
        "3️⃣ MessagesPlaceholder (Dynamic Chat History)\n",
        "\n",
        "MessagesPlaceholder allows you to inject prior messages (chat history) dynamically into your prompt. This is useful for memory-enabled agents and reflective chatbots."
      ]
    },
    {
      "cell_type": "code",
      "execution_count": 19,
      "metadata": {
        "id": "kqpZwA-ViepL"
      },
      "outputs": [],
      "source": [
        "from langchain.prompts import ChatPromptTemplate, MessagesPlaceholder\n",
        "from langchain_core.messages import HumanMessage, AIMessage\n"
      ]
    },
    {
      "cell_type": "code",
      "execution_count": 20,
      "metadata": {
        "id": "vztX_6gnitBj"
      },
      "outputs": [],
      "source": [
        "# Define a prompt that includes a placeholder for message history\n",
        "prompt = ChatPromptTemplate.from_messages([\n",
        "    (\"system\", \"You are a career counselor.\"),\n",
        "    MessagesPlaceholder(variable_name=\"chat_history\"),  # Dynamic history\n",
        "    (\"human\", \"{question}\")  # Current user question\n",
        "])"
      ]
    },
    {
      "cell_type": "code",
      "execution_count": 21,
      "metadata": {
        "id": "KbN05HSbiwnB"
      },
      "outputs": [],
      "source": [
        "# Simulated prior conversation history\n",
        "chat_history = [\n",
        "    HumanMessage(content=\"Hi, I have a background in mechanical engineering.\"),\n",
        "    AIMessage(content=\"Great! Are you looking to stay in core engineering roles?\")\n",
        "]\n"
      ]
    },
    {
      "cell_type": "code",
      "execution_count": 22,
      "metadata": {
        "id": "HpGFAWfAi0B0"
      },
      "outputs": [],
      "source": [
        "# Format the prompt with history and new question\n",
        "messages = prompt.format_messages(\n",
        "    chat_history=chat_history,\n",
        "    question=\"What career options should I consider if I like design and sustainability?\"\n",
        ")\n"
      ]
    },
    {
      "cell_type": "code",
      "execution_count": 23,
      "metadata": {
        "colab": {
          "base_uri": "https://localhost:8080/"
        },
        "id": "unN3z54fi2st",
        "outputId": "040897af-1e1c-49e8-d7f2-23b5c38daea1"
      },
      "outputs": [
        {
          "name": "stdout",
          "output_type": "stream",
          "text": [
            "Final Messages with History:\n",
            " [SystemMessage(content='You are a career counselor.', additional_kwargs={}, response_metadata={}), HumanMessage(content='Hi, I have a background in mechanical engineering.', additional_kwargs={}, response_metadata={}), AIMessage(content='Great! Are you looking to stay in core engineering roles?', additional_kwargs={}, response_metadata={}), HumanMessage(content='What career options should I consider if I like design and sustainability?', additional_kwargs={}, response_metadata={})]\n"
          ]
        }
      ],
      "source": [
        "\n",
        "# Show full structured messages\n",
        "print(\"Final Messages with History:\\n\", messages)\n"
      ]
    },
    {
      "cell_type": "code",
      "execution_count": 24,
      "metadata": {
        "colab": {
          "base_uri": "https://localhost:8080/"
        },
        "id": "6I3PU2VOi6NP",
        "outputId": "bd8b8626-8d3a-474c-956c-4c1843537294"
      },
      "outputs": [
        {
          "name": "stdout",
          "output_type": "stream",
          "text": [
            "\n",
            "LLM Output:\n",
            " With a background in mechanical engineering and an interest in design and sustainability, there are several career paths you might consider:\n",
            "\n",
            "1. **Sustainable Product Design Engineer**: Focus on designing products with a minimal environmental footprint, using sustainable materials and processes.\n",
            "\n",
            "2. **Renewable Energy Engineer**: Work on projects involving solar, wind, or other renewable energy sources, designing systems that harness these energies efficiently.\n",
            "\n",
            "3. **Environmental Engineer**: Apply engineering principles to improve and maintain the environment, working on projects to reduce pollution and promote sustainable practices.\n",
            "\n",
            "4. **Design Engineer**: Use your mechanical skills and creativity to design new products, incorporating sustainability as a key element of the design process.\n",
            "\n",
            "5. **Industrial Designer**: Focus on designing consumer products with an emphasis on aesthetics, functionality, and sustainable materials.\n",
            "\n",
            "6. **Life Cycle Assessment (LCA) Specialist**: Evaluate the environmental impact of products throughout their life cycle, advocating for greener practices in product development.\n",
            "\n",
            "7. **Sustainable Manufacturing Engineer**: Work to improve manufacturing processes to reduce waste and energy use, and implement recycling methods in production.\n",
            "\n",
            "8. **Automotive or Aerospace Engineer**: Specialize in designing more efficient and sustainable vehicles, focusing on alternative powertrains, lightweight materials, and aerodynamic efficiency.\n",
            "\n",
            "9. **Green Building Engineer**: Focus on designing buildings and structures that utilize sustainable materials and energy-efficient technologies.\n",
            "\n",
            "10. **Engineering Consultant**: Provide expertise to companies looking to incorporate sustainability into their operations and products.\n",
            "\n",
            "Consider what aspects of design and sustainability excite you most, and seek out roles or further education (like certifications in sustainable design or engineering) that align with those interests. Networking with professionals in these fields can also provide valuable insights and opportunities.\n"
          ]
        }
      ],
      "source": [
        "# Call the chat LLM with dynamic history\n",
        "response = chat_llm.invoke(messages)\n",
        "print(\"\\nLLM Output:\\n\", response.content)"
      ]
    },
    {
      "cell_type": "code",
      "execution_count": null,
      "metadata": {
        "id": "gmjraCoai8GO"
      },
      "outputs": [],
      "source": []
    }
  ],
  "metadata": {
    "colab": {
      "provenance": []
    },
    "kernelspec": {
      "display_name": "labenv1 (3.10.0)",
      "language": "python",
      "name": "python3"
    },
    "language_info": {
      "codemirror_mode": {
        "name": "ipython",
        "version": 3
      },
      "file_extension": ".py",
      "mimetype": "text/x-python",
      "name": "python",
      "nbconvert_exporter": "python",
      "pygments_lexer": "ipython3",
      "version": "3.10.0"
    }
  },
  "nbformat": 4,
  "nbformat_minor": 0
}
